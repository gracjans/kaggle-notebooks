{
 "cells": [
  {
   "cell_type": "markdown",
   "id": "552aa6b3",
   "metadata": {
    "papermill": {
     "duration": 0.053061,
     "end_time": "2021-12-30T00:24:36.518220",
     "exception": false,
     "start_time": "2021-12-30T00:24:36.465159",
     "status": "completed"
    },
    "tags": []
   },
   "source": [
    "Welcome to my first kaggle notebook, where I participate in \"Titanic - Machine Learning from Disaster\" competition. You can see my analysis and predictions below. Any comments are welcome!\n",
    "# 1. The challenge "
   ]
  },
  {
   "cell_type": "markdown",
   "id": "1c94ae37",
   "metadata": {
    "papermill": {
     "duration": 0.04986,
     "end_time": "2021-12-30T00:24:36.619037",
     "exception": false,
     "start_time": "2021-12-30T00:24:36.569177",
     "status": "completed"
    },
    "tags": []
   },
   "source": [
    "The sinking of the Titanic is one of the most infamous shipwrecks in history.\n",
    "\n",
    "On April 15, 1912, during her maiden voyage, the widely considered “unsinkable” RMS Titanic sank after colliding with an iceberg. Unfortunately, there weren’t enough lifeboats for everyone onboard, resulting in the death of 1502 out of 2224 passengers and crew.\n",
    "\n",
    "While there was some element of luck involved in surviving, it seems some groups of people were more likely to survive than others.\n",
    "\n",
    "In this challenge, we ask you to build a predictive model that answers the question: “what sorts of people were more likely to survive?” using passenger data (ie name, age, gender, socio-economic class, etc)."
   ]
  },
  {
   "cell_type": "markdown",
   "id": "8ec5b850",
   "metadata": {
    "_cell_guid": "b1076dfc-b9ad-4769-8c92-a6c4dae69d19",
    "_uuid": "8f2839f25d086af736a60e9eeb907d3b93b6e0e5",
    "papermill": {
     "duration": 0.059978,
     "end_time": "2021-12-30T00:24:36.732521",
     "exception": false,
     "start_time": "2021-12-30T00:24:36.672543",
     "status": "completed"
    },
    "tags": []
   },
   "source": [
    "## 1.1. Import libraries"
   ]
  },
  {
   "cell_type": "code",
   "execution_count": 1,
   "id": "183a0f19",
   "metadata": {
    "execution": {
     "iopub.execute_input": "2021-12-30T00:24:36.850013Z",
     "iopub.status.busy": "2021-12-30T00:24:36.848438Z",
     "iopub.status.idle": "2021-12-30T00:24:37.807888Z",
     "shell.execute_reply": "2021-12-30T00:24:37.807162Z",
     "shell.execute_reply.started": "2021-12-30T00:23:06.654780Z"
    },
    "papermill": {
     "duration": 1.01758,
     "end_time": "2021-12-30T00:24:37.808067",
     "exception": false,
     "start_time": "2021-12-30T00:24:36.790487",
     "status": "completed"
    },
    "tags": []
   },
   "outputs": [],
   "source": [
    "import numpy as np\n",
    "import pandas as pd\n",
    "import matplotlib.pyplot as plt\n",
    "import seaborn as sns"
   ]
  },
  {
   "cell_type": "markdown",
   "id": "5c6b0c23",
   "metadata": {
    "papermill": {
     "duration": 0.053165,
     "end_time": "2021-12-30T00:24:37.911367",
     "exception": false,
     "start_time": "2021-12-30T00:24:37.858202",
     "status": "completed"
    },
    "tags": []
   },
   "source": [
    "## 1.2. Import train and test data"
   ]
  },
  {
   "cell_type": "code",
   "execution_count": 2,
   "id": "b70ab194",
   "metadata": {
    "execution": {
     "iopub.execute_input": "2021-12-30T00:24:38.036676Z",
     "iopub.status.busy": "2021-12-30T00:24:38.036105Z",
     "iopub.status.idle": "2021-12-30T00:24:38.064355Z",
     "shell.execute_reply": "2021-12-30T00:24:38.064825Z",
     "shell.execute_reply.started": "2021-12-30T00:23:06.661355Z"
    },
    "papermill": {
     "duration": 0.089445,
     "end_time": "2021-12-30T00:24:38.065022",
     "exception": false,
     "start_time": "2021-12-30T00:24:37.975577",
     "status": "completed"
    },
    "tags": []
   },
   "outputs": [],
   "source": [
    "df_train = pd.read_csv(\"/kaggle/input/titanic/train.csv\")\n",
    "df_test = pd.read_csv(\"/kaggle/input/titanic/test.csv\")"
   ]
  },
  {
   "cell_type": "markdown",
   "id": "a259c79e",
   "metadata": {
    "execution": {
     "iopub.execute_input": "2021-08-18T20:23:13.754006Z",
     "iopub.status.busy": "2021-08-18T20:23:13.753553Z",
     "iopub.status.idle": "2021-08-18T20:23:13.769594Z",
     "shell.execute_reply": "2021-08-18T20:23:13.768226Z",
     "shell.execute_reply.started": "2021-08-18T20:23:13.75398Z"
    },
    "papermill": {
     "duration": 0.049497,
     "end_time": "2021-12-30T00:24:38.165450",
     "exception": false,
     "start_time": "2021-12-30T00:24:38.115953",
     "status": "completed"
    },
    "tags": []
   },
   "source": [
    "# 2. Exploratory data analysis"
   ]
  },
  {
   "cell_type": "markdown",
   "id": "776ec76a",
   "metadata": {
    "papermill": {
     "duration": 0.056046,
     "end_time": "2021-12-30T00:24:38.272784",
     "exception": false,
     "start_time": "2021-12-30T00:24:38.216738",
     "status": "completed"
    },
    "tags": []
   },
   "source": [
    "Things covered in EDA chapter:\n",
    "1. Inspect first rows of datasets\n",
    "1. Meaning of the variables - Data Dictionary\n",
    "1. Inspect descriptive statistics of datasets\n",
    "1. Checking if datasets consist any missing values\n",
    "1. Numerical features histograms\n",
    "1. Correlation matrix heatmap for numerical values\n",
    "1. Average feature values depending on survival\n",
    "1. Survivorship depending on age and fare\n",
    "1. Count plots for categorical features"
   ]
  },
  {
   "cell_type": "markdown",
   "id": "2c3e5a4a",
   "metadata": {
    "papermill": {
     "duration": 0.050171,
     "end_time": "2021-12-30T00:24:38.378765",
     "exception": false,
     "start_time": "2021-12-30T00:24:38.328594",
     "status": "completed"
    },
    "tags": []
   },
   "source": [
    "### Inspect shapes of datasets"
   ]
  },
  {
   "cell_type": "code",
   "execution_count": 3,
   "id": "4ec9d0cb",
   "metadata": {
    "execution": {
     "iopub.execute_input": "2021-12-30T00:24:38.481670Z",
     "iopub.status.busy": "2021-12-30T00:24:38.481100Z",
     "iopub.status.idle": "2021-12-30T00:24:38.487321Z",
     "shell.execute_reply": "2021-12-30T00:24:38.486769Z",
     "shell.execute_reply.started": "2021-12-30T00:23:06.695678Z"
    },
    "papermill": {
     "duration": 0.058454,
     "end_time": "2021-12-30T00:24:38.487459",
     "exception": false,
     "start_time": "2021-12-30T00:24:38.429005",
     "status": "completed"
    },
    "tags": []
   },
   "outputs": [
    {
     "name": "stdout",
     "output_type": "stream",
     "text": [
      "Shape of train dataset: (891, 12)\n",
      "Shape of test dataset: (418, 11)\n"
     ]
    }
   ],
   "source": [
    "print('Shape of train dataset: {}'.format(df_train.shape))\n",
    "print('Shape of test dataset: {}'.format(df_test.shape))"
   ]
  },
  {
   "cell_type": "markdown",
   "id": "63a4498a",
   "metadata": {
    "papermill": {
     "duration": 0.050208,
     "end_time": "2021-12-30T00:24:38.589158",
     "exception": false,
     "start_time": "2021-12-30T00:24:38.538950",
     "status": "completed"
    },
    "tags": []
   },
   "source": [
    "## 2.1. Inspect first rows of dataset"
   ]
  },
  {
   "cell_type": "code",
   "execution_count": 4,
   "id": "e841a365",
   "metadata": {
    "execution": {
     "iopub.execute_input": "2021-12-30T00:24:38.701466Z",
     "iopub.status.busy": "2021-12-30T00:24:38.700786Z",
     "iopub.status.idle": "2021-12-30T00:24:38.728868Z",
     "shell.execute_reply": "2021-12-30T00:24:38.728410Z",
     "shell.execute_reply.started": "2021-12-30T00:23:06.704288Z"
    },
    "papermill": {
     "duration": 0.087886,
     "end_time": "2021-12-30T00:24:38.729068",
     "exception": false,
     "start_time": "2021-12-30T00:24:38.641182",
     "status": "completed"
    },
    "tags": []
   },
   "outputs": [
    {
     "data": {
      "text/html": [
       "<div>\n",
       "<style scoped>\n",
       "    .dataframe tbody tr th:only-of-type {\n",
       "        vertical-align: middle;\n",
       "    }\n",
       "\n",
       "    .dataframe tbody tr th {\n",
       "        vertical-align: top;\n",
       "    }\n",
       "\n",
       "    .dataframe thead th {\n",
       "        text-align: right;\n",
       "    }\n",
       "</style>\n",
       "<table border=\"1\" class=\"dataframe\">\n",
       "  <thead>\n",
       "    <tr style=\"text-align: right;\">\n",
       "      <th></th>\n",
       "      <th>PassengerId</th>\n",
       "      <th>Survived</th>\n",
       "      <th>Pclass</th>\n",
       "      <th>Name</th>\n",
       "      <th>Sex</th>\n",
       "      <th>Age</th>\n",
       "      <th>SibSp</th>\n",
       "      <th>Parch</th>\n",
       "      <th>Ticket</th>\n",
       "      <th>Fare</th>\n",
       "      <th>Cabin</th>\n",
       "      <th>Embarked</th>\n",
       "    </tr>\n",
       "  </thead>\n",
       "  <tbody>\n",
       "    <tr>\n",
       "      <th>0</th>\n",
       "      <td>1</td>\n",
       "      <td>0</td>\n",
       "      <td>3</td>\n",
       "      <td>Braund, Mr. Owen Harris</td>\n",
       "      <td>male</td>\n",
       "      <td>22.0</td>\n",
       "      <td>1</td>\n",
       "      <td>0</td>\n",
       "      <td>A/5 21171</td>\n",
       "      <td>7.2500</td>\n",
       "      <td>NaN</td>\n",
       "      <td>S</td>\n",
       "    </tr>\n",
       "    <tr>\n",
       "      <th>1</th>\n",
       "      <td>2</td>\n",
       "      <td>1</td>\n",
       "      <td>1</td>\n",
       "      <td>Cumings, Mrs. John Bradley (Florence Briggs Th...</td>\n",
       "      <td>female</td>\n",
       "      <td>38.0</td>\n",
       "      <td>1</td>\n",
       "      <td>0</td>\n",
       "      <td>PC 17599</td>\n",
       "      <td>71.2833</td>\n",
       "      <td>C85</td>\n",
       "      <td>C</td>\n",
       "    </tr>\n",
       "    <tr>\n",
       "      <th>2</th>\n",
       "      <td>3</td>\n",
       "      <td>1</td>\n",
       "      <td>3</td>\n",
       "      <td>Heikkinen, Miss. Laina</td>\n",
       "      <td>female</td>\n",
       "      <td>26.0</td>\n",
       "      <td>0</td>\n",
       "      <td>0</td>\n",
       "      <td>STON/O2. 3101282</td>\n",
       "      <td>7.9250</td>\n",
       "      <td>NaN</td>\n",
       "      <td>S</td>\n",
       "    </tr>\n",
       "    <tr>\n",
       "      <th>3</th>\n",
       "      <td>4</td>\n",
       "      <td>1</td>\n",
       "      <td>1</td>\n",
       "      <td>Futrelle, Mrs. Jacques Heath (Lily May Peel)</td>\n",
       "      <td>female</td>\n",
       "      <td>35.0</td>\n",
       "      <td>1</td>\n",
       "      <td>0</td>\n",
       "      <td>113803</td>\n",
       "      <td>53.1000</td>\n",
       "      <td>C123</td>\n",
       "      <td>S</td>\n",
       "    </tr>\n",
       "    <tr>\n",
       "      <th>4</th>\n",
       "      <td>5</td>\n",
       "      <td>0</td>\n",
       "      <td>3</td>\n",
       "      <td>Allen, Mr. William Henry</td>\n",
       "      <td>male</td>\n",
       "      <td>35.0</td>\n",
       "      <td>0</td>\n",
       "      <td>0</td>\n",
       "      <td>373450</td>\n",
       "      <td>8.0500</td>\n",
       "      <td>NaN</td>\n",
       "      <td>S</td>\n",
       "    </tr>\n",
       "    <tr>\n",
       "      <th>5</th>\n",
       "      <td>6</td>\n",
       "      <td>0</td>\n",
       "      <td>3</td>\n",
       "      <td>Moran, Mr. James</td>\n",
       "      <td>male</td>\n",
       "      <td>NaN</td>\n",
       "      <td>0</td>\n",
       "      <td>0</td>\n",
       "      <td>330877</td>\n",
       "      <td>8.4583</td>\n",
       "      <td>NaN</td>\n",
       "      <td>Q</td>\n",
       "    </tr>\n",
       "    <tr>\n",
       "      <th>6</th>\n",
       "      <td>7</td>\n",
       "      <td>0</td>\n",
       "      <td>1</td>\n",
       "      <td>McCarthy, Mr. Timothy J</td>\n",
       "      <td>male</td>\n",
       "      <td>54.0</td>\n",
       "      <td>0</td>\n",
       "      <td>0</td>\n",
       "      <td>17463</td>\n",
       "      <td>51.8625</td>\n",
       "      <td>E46</td>\n",
       "      <td>S</td>\n",
       "    </tr>\n",
       "    <tr>\n",
       "      <th>7</th>\n",
       "      <td>8</td>\n",
       "      <td>0</td>\n",
       "      <td>3</td>\n",
       "      <td>Palsson, Master. Gosta Leonard</td>\n",
       "      <td>male</td>\n",
       "      <td>2.0</td>\n",
       "      <td>3</td>\n",
       "      <td>1</td>\n",
       "      <td>349909</td>\n",
       "      <td>21.0750</td>\n",
       "      <td>NaN</td>\n",
       "      <td>S</td>\n",
       "    </tr>\n",
       "    <tr>\n",
       "      <th>8</th>\n",
       "      <td>9</td>\n",
       "      <td>1</td>\n",
       "      <td>3</td>\n",
       "      <td>Johnson, Mrs. Oscar W (Elisabeth Vilhelmina Berg)</td>\n",
       "      <td>female</td>\n",
       "      <td>27.0</td>\n",
       "      <td>0</td>\n",
       "      <td>2</td>\n",
       "      <td>347742</td>\n",
       "      <td>11.1333</td>\n",
       "      <td>NaN</td>\n",
       "      <td>S</td>\n",
       "    </tr>\n",
       "    <tr>\n",
       "      <th>9</th>\n",
       "      <td>10</td>\n",
       "      <td>1</td>\n",
       "      <td>2</td>\n",
       "      <td>Nasser, Mrs. Nicholas (Adele Achem)</td>\n",
       "      <td>female</td>\n",
       "      <td>14.0</td>\n",
       "      <td>1</td>\n",
       "      <td>0</td>\n",
       "      <td>237736</td>\n",
       "      <td>30.0708</td>\n",
       "      <td>NaN</td>\n",
       "      <td>C</td>\n",
       "    </tr>\n",
       "    <tr>\n",
       "      <th>10</th>\n",
       "      <td>11</td>\n",
       "      <td>1</td>\n",
       "      <td>3</td>\n",
       "      <td>Sandstrom, Miss. Marguerite Rut</td>\n",
       "      <td>female</td>\n",
       "      <td>4.0</td>\n",
       "      <td>1</td>\n",
       "      <td>1</td>\n",
       "      <td>PP 9549</td>\n",
       "      <td>16.7000</td>\n",
       "      <td>G6</td>\n",
       "      <td>S</td>\n",
       "    </tr>\n",
       "    <tr>\n",
       "      <th>11</th>\n",
       "      <td>12</td>\n",
       "      <td>1</td>\n",
       "      <td>1</td>\n",
       "      <td>Bonnell, Miss. Elizabeth</td>\n",
       "      <td>female</td>\n",
       "      <td>58.0</td>\n",
       "      <td>0</td>\n",
       "      <td>0</td>\n",
       "      <td>113783</td>\n",
       "      <td>26.5500</td>\n",
       "      <td>C103</td>\n",
       "      <td>S</td>\n",
       "    </tr>\n",
       "    <tr>\n",
       "      <th>12</th>\n",
       "      <td>13</td>\n",
       "      <td>0</td>\n",
       "      <td>3</td>\n",
       "      <td>Saundercock, Mr. William Henry</td>\n",
       "      <td>male</td>\n",
       "      <td>20.0</td>\n",
       "      <td>0</td>\n",
       "      <td>0</td>\n",
       "      <td>A/5. 2151</td>\n",
       "      <td>8.0500</td>\n",
       "      <td>NaN</td>\n",
       "      <td>S</td>\n",
       "    </tr>\n",
       "    <tr>\n",
       "      <th>13</th>\n",
       "      <td>14</td>\n",
       "      <td>0</td>\n",
       "      <td>3</td>\n",
       "      <td>Andersson, Mr. Anders Johan</td>\n",
       "      <td>male</td>\n",
       "      <td>39.0</td>\n",
       "      <td>1</td>\n",
       "      <td>5</td>\n",
       "      <td>347082</td>\n",
       "      <td>31.2750</td>\n",
       "      <td>NaN</td>\n",
       "      <td>S</td>\n",
       "    </tr>\n",
       "    <tr>\n",
       "      <th>14</th>\n",
       "      <td>15</td>\n",
       "      <td>0</td>\n",
       "      <td>3</td>\n",
       "      <td>Vestrom, Miss. Hulda Amanda Adolfina</td>\n",
       "      <td>female</td>\n",
       "      <td>14.0</td>\n",
       "      <td>0</td>\n",
       "      <td>0</td>\n",
       "      <td>350406</td>\n",
       "      <td>7.8542</td>\n",
       "      <td>NaN</td>\n",
       "      <td>S</td>\n",
       "    </tr>\n",
       "  </tbody>\n",
       "</table>\n",
       "</div>"
      ],
      "text/plain": [
       "    PassengerId  Survived  Pclass  \\\n",
       "0             1         0       3   \n",
       "1             2         1       1   \n",
       "2             3         1       3   \n",
       "3             4         1       1   \n",
       "4             5         0       3   \n",
       "5             6         0       3   \n",
       "6             7         0       1   \n",
       "7             8         0       3   \n",
       "8             9         1       3   \n",
       "9            10         1       2   \n",
       "10           11         1       3   \n",
       "11           12         1       1   \n",
       "12           13         0       3   \n",
       "13           14         0       3   \n",
       "14           15         0       3   \n",
       "\n",
       "                                                 Name     Sex   Age  SibSp  \\\n",
       "0                             Braund, Mr. Owen Harris    male  22.0      1   \n",
       "1   Cumings, Mrs. John Bradley (Florence Briggs Th...  female  38.0      1   \n",
       "2                              Heikkinen, Miss. Laina  female  26.0      0   \n",
       "3        Futrelle, Mrs. Jacques Heath (Lily May Peel)  female  35.0      1   \n",
       "4                            Allen, Mr. William Henry    male  35.0      0   \n",
       "5                                    Moran, Mr. James    male   NaN      0   \n",
       "6                             McCarthy, Mr. Timothy J    male  54.0      0   \n",
       "7                      Palsson, Master. Gosta Leonard    male   2.0      3   \n",
       "8   Johnson, Mrs. Oscar W (Elisabeth Vilhelmina Berg)  female  27.0      0   \n",
       "9                 Nasser, Mrs. Nicholas (Adele Achem)  female  14.0      1   \n",
       "10                    Sandstrom, Miss. Marguerite Rut  female   4.0      1   \n",
       "11                           Bonnell, Miss. Elizabeth  female  58.0      0   \n",
       "12                     Saundercock, Mr. William Henry    male  20.0      0   \n",
       "13                        Andersson, Mr. Anders Johan    male  39.0      1   \n",
       "14               Vestrom, Miss. Hulda Amanda Adolfina  female  14.0      0   \n",
       "\n",
       "    Parch            Ticket     Fare Cabin Embarked  \n",
       "0       0         A/5 21171   7.2500   NaN        S  \n",
       "1       0          PC 17599  71.2833   C85        C  \n",
       "2       0  STON/O2. 3101282   7.9250   NaN        S  \n",
       "3       0            113803  53.1000  C123        S  \n",
       "4       0            373450   8.0500   NaN        S  \n",
       "5       0            330877   8.4583   NaN        Q  \n",
       "6       0             17463  51.8625   E46        S  \n",
       "7       1            349909  21.0750   NaN        S  \n",
       "8       2            347742  11.1333   NaN        S  \n",
       "9       0            237736  30.0708   NaN        C  \n",
       "10      1           PP 9549  16.7000    G6        S  \n",
       "11      0            113783  26.5500  C103        S  \n",
       "12      0         A/5. 2151   8.0500   NaN        S  \n",
       "13      5            347082  31.2750   NaN        S  \n",
       "14      0            350406   7.8542   NaN        S  "
      ]
     },
     "execution_count": 4,
     "metadata": {},
     "output_type": "execute_result"
    }
   ],
   "source": [
    "df_train.head(15)"
   ]
  },
  {
   "cell_type": "markdown",
   "id": "6f51b489",
   "metadata": {
    "papermill": {
     "duration": 0.052759,
     "end_time": "2021-12-30T00:24:38.835872",
     "exception": false,
     "start_time": "2021-12-30T00:24:38.783113",
     "status": "completed"
    },
    "tags": []
   },
   "source": [
    "## 2.2. Meaning of the variables - Data Dictionary"
   ]
  },
  {
   "attachments": {
    "a201014c-2769-40ed-bd7f-cd6c19da1458.JPG": {
     "image/jpeg": "[encoded data removed]"
    }
   },
   "cell_type": "markdown",
   "id": "79d4f3f6",
   "metadata": {
    "papermill": {
     "duration": 0.053602,
     "end_time": "2021-12-30T00:24:38.941652",
     "exception": false,
     "start_time": "2021-12-30T00:24:38.888050",
     "status": "completed"
    },
    "tags": []
   },
   "source": [
    "![data_dictionary.JPG](attachment:a201014c-2769-40ed-bd7f-cd6c19da1458.JPG)"
   ]
  },
  {
   "cell_type": "markdown",
   "id": "497c2ced",
   "metadata": {
    "papermill": {
     "duration": 0.052087,
     "end_time": "2021-12-30T00:24:39.045736",
     "exception": false,
     "start_time": "2021-12-30T00:24:38.993649",
     "status": "completed"
    },
    "tags": []
   },
   "source": [
    "## 2.3. Inspect descriptive statistics of datasets"
   ]
  },
  {
   "cell_type": "code",
   "execution_count": 5,
   "id": "51af0fd4",
   "metadata": {
    "execution": {
     "iopub.execute_input": "2021-12-30T00:24:39.156814Z",
     "iopub.status.busy": "2021-12-30T00:24:39.156220Z",
     "iopub.status.idle": "2021-12-30T00:24:39.185476Z",
     "shell.execute_reply": "2021-12-30T00:24:39.185035Z",
     "shell.execute_reply.started": "2021-12-30T00:23:06.737288Z"
    },
    "papermill": {
     "duration": 0.088266,
     "end_time": "2021-12-30T00:24:39.185638",
     "exception": false,
     "start_time": "2021-12-30T00:24:39.097372",
     "status": "completed"
    },
    "tags": []
   },
   "outputs": [
    {
     "data": {
      "text/html": [
       "<div>\n",
       "<style scoped>\n",
       "    .dataframe tbody tr th:only-of-type {\n",
       "        vertical-align: middle;\n",
       "    }\n",
       "\n",
       "    .dataframe tbody tr th {\n",
       "        vertical-align: top;\n",
       "    }\n",
       "\n",
       "    .dataframe thead th {\n",
       "        text-align: right;\n",
       "    }\n",
       "</style>\n",
       "<table border=\"1\" class=\"dataframe\">\n",
       "  <thead>\n",
       "    <tr style=\"text-align: right;\">\n",
       "      <th></th>\n",
       "      <th>PassengerId</th>\n",
       "      <th>Survived</th>\n",
       "      <th>Pclass</th>\n",
       "      <th>Age</th>\n",
       "      <th>SibSp</th>\n",
       "      <th>Parch</th>\n",
       "      <th>Fare</th>\n",
       "    </tr>\n",
       "  </thead>\n",
       "  <tbody>\n",
       "    <tr>\n",
       "      <th>count</th>\n",
       "      <td>891.000000</td>\n",
       "      <td>891.000000</td>\n",
       "      <td>891.000000</td>\n",
       "      <td>714.000000</td>\n",
       "      <td>891.000000</td>\n",
       "      <td>891.000000</td>\n",
       "      <td>891.000000</td>\n",
       "    </tr>\n",
       "    <tr>\n",
       "      <th>mean</th>\n",
       "      <td>446.000000</td>\n",
       "      <td>0.383838</td>\n",
       "      <td>2.308642</td>\n",
       "      <td>29.699118</td>\n",
       "      <td>0.523008</td>\n",
       "      <td>0.381594</td>\n",
       "      <td>32.204208</td>\n",
       "    </tr>\n",
       "    <tr>\n",
       "      <th>std</th>\n",
       "      <td>257.353842</td>\n",
       "      <td>0.486592</td>\n",
       "      <td>0.836071</td>\n",
       "      <td>14.526497</td>\n",
       "      <td>1.102743</td>\n",
       "      <td>0.806057</td>\n",
       "      <td>49.693429</td>\n",
       "    </tr>\n",
       "    <tr>\n",
       "      <th>min</th>\n",
       "      <td>1.000000</td>\n",
       "      <td>0.000000</td>\n",
       "      <td>1.000000</td>\n",
       "      <td>0.420000</td>\n",
       "      <td>0.000000</td>\n",
       "      <td>0.000000</td>\n",
       "      <td>0.000000</td>\n",
       "    </tr>\n",
       "    <tr>\n",
       "      <th>25%</th>\n",
       "      <td>223.500000</td>\n",
       "      <td>0.000000</td>\n",
       "      <td>2.000000</td>\n",
       "      <td>20.125000</td>\n",
       "      <td>0.000000</td>\n",
       "      <td>0.000000</td>\n",
       "      <td>7.910400</td>\n",
       "    </tr>\n",
       "    <tr>\n",
       "      <th>50%</th>\n",
       "      <td>446.000000</td>\n",
       "      <td>0.000000</td>\n",
       "      <td>3.000000</td>\n",
       "      <td>28.000000</td>\n",
       "      <td>0.000000</td>\n",
       "      <td>0.000000</td>\n",
       "      <td>14.454200</td>\n",
       "    </tr>\n",
       "    <tr>\n",
       "      <th>75%</th>\n",
       "      <td>668.500000</td>\n",
       "      <td>1.000000</td>\n",
       "      <td>3.000000</td>\n",
       "      <td>38.000000</td>\n",
       "      <td>1.000000</td>\n",
       "      <td>0.000000</td>\n",
       "      <td>31.000000</td>\n",
       "    </tr>\n",
       "    <tr>\n",
       "      <th>max</th>\n",
       "      <td>891.000000</td>\n",
       "      <td>1.000000</td>\n",
       "      <td>3.000000</td>\n",
       "      <td>80.000000</td>\n",
       "      <td>8.000000</td>\n",
       "      <td>6.000000</td>\n",
       "      <td>512.329200</td>\n",
       "    </tr>\n",
       "  </tbody>\n",
       "</table>\n",
       "</div>"
      ],
      "text/plain": [
       "       PassengerId    Survived      Pclass         Age       SibSp  \\\n",
       "count   891.000000  891.000000  891.000000  714.000000  891.000000   \n",
       "mean    446.000000    0.383838    2.308642   29.699118    0.523008   \n",
       "std     257.353842    0.486592    0.836071   14.526497    1.102743   \n",
       "min       1.000000    0.000000    1.000000    0.420000    0.000000   \n",
       "25%     223.500000    0.000000    2.000000   20.125000    0.000000   \n",
       "50%     446.000000    0.000000    3.000000   28.000000    0.000000   \n",
       "75%     668.500000    1.000000    3.000000   38.000000    1.000000   \n",
       "max     891.000000    1.000000    3.000000   80.000000    8.000000   \n",
       "\n",
       "            Parch        Fare  \n",
       "count  891.000000  891.000000  \n",
       "mean     0.381594   32.204208  \n",
       "std      0.806057   49.693429  \n",
       "min      0.000000    0.000000  \n",
       "25%      0.000000    7.910400  \n",
       "50%      0.000000   14.454200  \n",
       "75%      0.000000   31.000000  \n",
       "max      6.000000  512.329200  "
      ]
     },
     "execution_count": 5,
     "metadata": {},
     "output_type": "execute_result"
    }
   ],
   "source": [
    "df_train.describe()"
   ]
  },
  {
   "cell_type": "code",
   "execution_count": 6,
   "id": "802fdc45",
   "metadata": {
    "execution": {
     "iopub.execute_input": "2021-12-30T00:24:39.293617Z",
     "iopub.status.busy": "2021-12-30T00:24:39.293046Z",
     "iopub.status.idle": "2021-12-30T00:24:39.318516Z",
     "shell.execute_reply": "2021-12-30T00:24:39.319027Z",
     "shell.execute_reply.started": "2021-12-30T00:23:06.779149Z"
    },
    "papermill": {
     "duration": 0.081333,
     "end_time": "2021-12-30T00:24:39.319201",
     "exception": false,
     "start_time": "2021-12-30T00:24:39.237868",
     "status": "completed"
    },
    "tags": []
   },
   "outputs": [
    {
     "data": {
      "text/html": [
       "<div>\n",
       "<style scoped>\n",
       "    .dataframe tbody tr th:only-of-type {\n",
       "        vertical-align: middle;\n",
       "    }\n",
       "\n",
       "    .dataframe tbody tr th {\n",
       "        vertical-align: top;\n",
       "    }\n",
       "\n",
       "    .dataframe thead th {\n",
       "        text-align: right;\n",
       "    }\n",
       "</style>\n",
       "<table border=\"1\" class=\"dataframe\">\n",
       "  <thead>\n",
       "    <tr style=\"text-align: right;\">\n",
       "      <th></th>\n",
       "      <th>PassengerId</th>\n",
       "      <th>Pclass</th>\n",
       "      <th>Age</th>\n",
       "      <th>SibSp</th>\n",
       "      <th>Parch</th>\n",
       "      <th>Fare</th>\n",
       "    </tr>\n",
       "  </thead>\n",
       "  <tbody>\n",
       "    <tr>\n",
       "      <th>count</th>\n",
       "      <td>418.000000</td>\n",
       "      <td>418.000000</td>\n",
       "      <td>332.000000</td>\n",
       "      <td>418.000000</td>\n",
       "      <td>418.000000</td>\n",
       "      <td>417.000000</td>\n",
       "    </tr>\n",
       "    <tr>\n",
       "      <th>mean</th>\n",
       "      <td>1100.500000</td>\n",
       "      <td>2.265550</td>\n",
       "      <td>30.272590</td>\n",
       "      <td>0.447368</td>\n",
       "      <td>0.392344</td>\n",
       "      <td>35.627188</td>\n",
       "    </tr>\n",
       "    <tr>\n",
       "      <th>std</th>\n",
       "      <td>120.810458</td>\n",
       "      <td>0.841838</td>\n",
       "      <td>14.181209</td>\n",
       "      <td>0.896760</td>\n",
       "      <td>0.981429</td>\n",
       "      <td>55.907576</td>\n",
       "    </tr>\n",
       "    <tr>\n",
       "      <th>min</th>\n",
       "      <td>892.000000</td>\n",
       "      <td>1.000000</td>\n",
       "      <td>0.170000</td>\n",
       "      <td>0.000000</td>\n",
       "      <td>0.000000</td>\n",
       "      <td>0.000000</td>\n",
       "    </tr>\n",
       "    <tr>\n",
       "      <th>25%</th>\n",
       "      <td>996.250000</td>\n",
       "      <td>1.000000</td>\n",
       "      <td>21.000000</td>\n",
       "      <td>0.000000</td>\n",
       "      <td>0.000000</td>\n",
       "      <td>7.895800</td>\n",
       "    </tr>\n",
       "    <tr>\n",
       "      <th>50%</th>\n",
       "      <td>1100.500000</td>\n",
       "      <td>3.000000</td>\n",
       "      <td>27.000000</td>\n",
       "      <td>0.000000</td>\n",
       "      <td>0.000000</td>\n",
       "      <td>14.454200</td>\n",
       "    </tr>\n",
       "    <tr>\n",
       "      <th>75%</th>\n",
       "      <td>1204.750000</td>\n",
       "      <td>3.000000</td>\n",
       "      <td>39.000000</td>\n",
       "      <td>1.000000</td>\n",
       "      <td>0.000000</td>\n",
       "      <td>31.500000</td>\n",
       "    </tr>\n",
       "    <tr>\n",
       "      <th>max</th>\n",
       "      <td>1309.000000</td>\n",
       "      <td>3.000000</td>\n",
       "      <td>76.000000</td>\n",
       "      <td>8.000000</td>\n",
       "      <td>9.000000</td>\n",
       "      <td>512.329200</td>\n",
       "    </tr>\n",
       "  </tbody>\n",
       "</table>\n",
       "</div>"
      ],
      "text/plain": [
       "       PassengerId      Pclass         Age       SibSp       Parch        Fare\n",
       "count   418.000000  418.000000  332.000000  418.000000  418.000000  417.000000\n",
       "mean   1100.500000    2.265550   30.272590    0.447368    0.392344   35.627188\n",
       "std     120.810458    0.841838   14.181209    0.896760    0.981429   55.907576\n",
       "min     892.000000    1.000000    0.170000    0.000000    0.000000    0.000000\n",
       "25%     996.250000    1.000000   21.000000    0.000000    0.000000    7.895800\n",
       "50%    1100.500000    3.000000   27.000000    0.000000    0.000000   14.454200\n",
       "75%    1204.750000    3.000000   39.000000    1.000000    0.000000   31.500000\n",
       "max    1309.000000    3.000000   76.000000    8.000000    9.000000  512.329200"
      ]
     },
     "execution_count": 6,
     "metadata": {},
     "output_type": "execute_result"
    }
   ],
   "source": [
    "df_test.describe()"
   ]
  },
  {
   "cell_type": "markdown",
   "id": "a2ca2f0d",
   "metadata": {
    "execution": {
     "iopub.execute_input": "2021-10-01T13:31:03.538633Z",
     "iopub.status.busy": "2021-10-01T13:31:03.538129Z",
     "iopub.status.idle": "2021-10-01T13:31:04.378001Z",
     "shell.execute_reply": "2021-10-01T13:31:04.376439Z",
     "shell.execute_reply.started": "2021-10-01T13:31:03.538587Z"
    },
    "papermill": {
     "duration": 0.053266,
     "end_time": "2021-12-30T00:24:39.425239",
     "exception": false,
     "start_time": "2021-12-30T00:24:39.371973",
     "status": "completed"
    },
    "tags": []
   },
   "source": [
    "We can see that train and test datasets are well distributed (like splitting using stratification). Corresponding values in upper description tables are similar (e.g. mean of Age is around 30)."
   ]
  },
  {
   "cell_type": "markdown",
   "id": "39ac72eb",
   "metadata": {
    "papermill": {
     "duration": 0.051574,
     "end_time": "2021-12-30T00:24:39.529275",
     "exception": false,
     "start_time": "2021-12-30T00:24:39.477701",
     "status": "completed"
    },
    "tags": []
   },
   "source": [
    "## 2.4. Checking if datasets consist any missing values"
   ]
  },
  {
   "cell_type": "markdown",
   "id": "8702f84a",
   "metadata": {
    "papermill": {
     "duration": 0.060831,
     "end_time": "2021-12-30T00:24:39.642342",
     "exception": false,
     "start_time": "2021-12-30T00:24:39.581511",
     "status": "completed"
    },
    "tags": []
   },
   "source": [
    "#### Train dataset"
   ]
  },
  {
   "cell_type": "code",
   "execution_count": 7,
   "id": "37a385d8",
   "metadata": {
    "execution": {
     "iopub.execute_input": "2021-12-30T00:24:39.763675Z",
     "iopub.status.busy": "2021-12-30T00:24:39.763088Z",
     "iopub.status.idle": "2021-12-30T00:24:39.774889Z",
     "shell.execute_reply": "2021-12-30T00:24:39.774189Z",
     "shell.execute_reply.started": "2021-12-30T00:23:06.815533Z"
    },
    "papermill": {
     "duration": 0.066242,
     "end_time": "2021-12-30T00:24:39.775110",
     "exception": false,
     "start_time": "2021-12-30T00:24:39.708868",
     "status": "completed"
    },
    "tags": []
   },
   "outputs": [
    {
     "name": "stdout",
     "output_type": "stream",
     "text": [
      "Train dataset consist missing values: True\n",
      "Number of missing values: 866\n",
      "\n",
      "PassengerId      0\n",
      "Survived         0\n",
      "Pclass           0\n",
      "Name             0\n",
      "Sex              0\n",
      "Age            177\n",
      "SibSp            0\n",
      "Parch            0\n",
      "Ticket           0\n",
      "Fare             0\n",
      "Cabin          687\n",
      "Embarked         2\n",
      "dtype: int64\n"
     ]
    }
   ],
   "source": [
    "print(\"Train dataset consist missing values: \" + str(df_train.isnull().values.any()))\n",
    "print(\"Number of missing values: \" + str(df_train.isnull().sum().sum()))\n",
    "\n",
    "print(\"\\n{}\".format(df_train.isnull().sum()))"
   ]
  },
  {
   "cell_type": "markdown",
   "id": "e59f0bf2",
   "metadata": {
    "papermill": {
     "duration": 0.052189,
     "end_time": "2021-12-30T00:24:39.880741",
     "exception": false,
     "start_time": "2021-12-30T00:24:39.828552",
     "status": "completed"
    },
    "tags": []
   },
   "source": [
    "#### Test dataset"
   ]
  },
  {
   "cell_type": "code",
   "execution_count": 8,
   "id": "2dafce67",
   "metadata": {
    "execution": {
     "iopub.execute_input": "2021-12-30T00:24:39.990035Z",
     "iopub.status.busy": "2021-12-30T00:24:39.989403Z",
     "iopub.status.idle": "2021-12-30T00:24:39.998984Z",
     "shell.execute_reply": "2021-12-30T00:24:39.999427Z",
     "shell.execute_reply.started": "2021-12-30T00:23:06.831429Z"
    },
    "papermill": {
     "duration": 0.066343,
     "end_time": "2021-12-30T00:24:39.999589",
     "exception": false,
     "start_time": "2021-12-30T00:24:39.933246",
     "status": "completed"
    },
    "tags": []
   },
   "outputs": [
    {
     "name": "stdout",
     "output_type": "stream",
     "text": [
      "Train dataset consist missing values: True\n",
      "Number of missing values: 414\n",
      "\n",
      "PassengerId      0\n",
      "Pclass           0\n",
      "Name             0\n",
      "Sex              0\n",
      "Age             86\n",
      "SibSp            0\n",
      "Parch            0\n",
      "Ticket           0\n",
      "Fare             1\n",
      "Cabin          327\n",
      "Embarked         0\n",
      "dtype: int64\n"
     ]
    }
   ],
   "source": [
    "print(\"Train dataset consist missing values: \" + str(df_test.isnull().values.any()))\n",
    "print(\"Number of missing values: \" + str(df_test.isnull().sum().sum()))\n",
    "\n",
    "print(\"\\n{}\".format(df_test.isnull().sum()))"
   ]
  },
  {
   "cell_type": "markdown",
   "id": "2262d9e5",
   "metadata": {
    "papermill": {
     "duration": 0.052856,
     "end_time": "2021-12-30T00:24:40.105751",
     "exception": false,
     "start_time": "2021-12-30T00:24:40.052895",
     "status": "completed"
    },
    "tags": []
   },
   "source": [
    "### Inspect numerical and categorical features separately"
   ]
  },
  {
   "cell_type": "code",
   "execution_count": 9,
   "id": "a84c9fe4",
   "metadata": {
    "execution": {
     "iopub.execute_input": "2021-12-30T00:24:40.215336Z",
     "iopub.status.busy": "2021-12-30T00:24:40.214418Z",
     "iopub.status.idle": "2021-12-30T00:24:40.220452Z",
     "shell.execute_reply": "2021-12-30T00:24:40.220936Z",
     "shell.execute_reply.started": "2021-12-30T00:23:06.848853Z"
    },
    "papermill": {
     "duration": 0.06262,
     "end_time": "2021-12-30T00:24:40.221113",
     "exception": false,
     "start_time": "2021-12-30T00:24:40.158493",
     "status": "completed"
    },
    "tags": []
   },
   "outputs": [
    {
     "data": {
      "text/plain": [
       "Index(['PassengerId', 'Survived', 'Pclass', 'Name', 'Sex', 'Age', 'SibSp',\n",
       "       'Parch', 'Ticket', 'Fare', 'Cabin', 'Embarked'],\n",
       "      dtype='object')"
      ]
     },
     "execution_count": 9,
     "metadata": {},
     "output_type": "execute_result"
    }
   ],
   "source": [
    "df_train.columns"
   ]
  },
  {
   "cell_type": "code",
   "execution_count": 10,
   "id": "60f0f2a2",
   "metadata": {
    "execution": {
     "iopub.execute_input": "2021-12-30T00:24:40.329864Z",
     "iopub.status.busy": "2021-12-30T00:24:40.329317Z",
     "iopub.status.idle": "2021-12-30T00:24:40.335080Z",
     "shell.execute_reply": "2021-12-30T00:24:40.335541Z",
     "shell.execute_reply.started": "2021-12-30T00:23:06.859628Z"
    },
    "papermill": {
     "duration": 0.061893,
     "end_time": "2021-12-30T00:24:40.335697",
     "exception": false,
     "start_time": "2021-12-30T00:24:40.273804",
     "status": "completed"
    },
    "tags": []
   },
   "outputs": [],
   "source": [
    "df_num = df_train[['Age','SibSp','Parch','Fare']]\n",
    "df_cat = df_train[['Survived','Pclass','Sex','Ticket','Cabin','Embarked']]"
   ]
  },
  {
   "cell_type": "markdown",
   "id": "d463030a",
   "metadata": {
    "papermill": {
     "duration": 0.052543,
     "end_time": "2021-12-30T00:24:40.441091",
     "exception": false,
     "start_time": "2021-12-30T00:24:40.388548",
     "status": "completed"
    },
    "tags": []
   },
   "source": [
    "## 2.5. Numerical features histograms"
   ]
  },
  {
   "cell_type": "code",
   "execution_count": 11,
   "id": "85029282",
   "metadata": {
    "execution": {
     "iopub.execute_input": "2021-12-30T00:24:40.549080Z",
     "iopub.status.busy": "2021-12-30T00:24:40.548510Z",
     "iopub.status.idle": "2021-12-30T00:24:41.230230Z",
     "shell.execute_reply": "2021-12-30T00:24:41.229674Z",
     "shell.execute_reply.started": "2021-12-30T00:23:06.875114Z"
    },
    "papermill": {
     "duration": 0.736779,
     "end_time": "2021-12-30T00:24:41.230370",
     "exception": false,
     "start_time": "2021-12-30T00:24:40.493591",
     "status": "completed"
    },
    "tags": []
   },
   "outputs": [
    {
     "data": {
      "text/plain": [
       "array([[<AxesSubplot:title={'center':'Age'}>,\n",
       "        <AxesSubplot:title={'center':'SibSp'}>,\n",
       "        <AxesSubplot:title={'center':'Parch'}>,\n",
       "        <AxesSubplot:title={'center':'Fare'}>]], dtype=object)"
      ]
     },
     "execution_count": 11,
     "metadata": {},
     "output_type": "execute_result"
    },
    {
     "data": {
      "image/png": "[encoded data removed]",
      "text/plain": [
       "<Figure size 1800x360 with 4 Axes>"
      ]
     },
     "metadata": {
      "needs_background": "light"
     },
     "output_type": "display_data"
    }
   ],
   "source": [
    "df_num.hist(figsize=(25,5), layout=(1,4))"
   ]
  },
  {
   "cell_type": "markdown",
   "id": "7e619d3f",
   "metadata": {
    "papermill": {
     "duration": 0.054184,
     "end_time": "2021-12-30T00:24:41.339038",
     "exception": false,
     "start_time": "2021-12-30T00:24:41.284854",
     "status": "completed"
    },
    "tags": []
   },
   "source": [
    "## 2.6. Correlation matrix heatmap for numerical values"
   ]
  },
  {
   "cell_type": "code",
   "execution_count": 12,
   "id": "bed32e60",
   "metadata": {
    "execution": {
     "iopub.execute_input": "2021-12-30T00:24:41.449795Z",
     "iopub.status.busy": "2021-12-30T00:24:41.449154Z",
     "iopub.status.idle": "2021-12-30T00:24:41.700259Z",
     "shell.execute_reply": "2021-12-30T00:24:41.699766Z",
     "shell.execute_reply.started": "2021-12-30T00:23:07.635298Z"
    },
    "papermill": {
     "duration": 0.30774,
     "end_time": "2021-12-30T00:24:41.700398",
     "exception": false,
     "start_time": "2021-12-30T00:24:41.392658",
     "status": "completed"
    },
    "tags": []
   },
   "outputs": [
    {
     "data": {
      "image/png": "[encoded data removed]",
      "text/plain": [
       "<Figure size 432x288 with 2 Axes>"
      ]
     },
     "metadata": {
      "needs_background": "light"
     },
     "output_type": "display_data"
    }
   ],
   "source": [
    "corr = df_num.corr()\n",
    "\n",
    "# Generate a mask for the upper triangle \n",
    "mask = np.triu(np.ones_like(corr, dtype=bool), 1)\n",
    "\n",
    "sns.heatmap(corr, mask=mask, cmap='Blues', annot=True, fmt=\".2f\")\n",
    "plt.show()"
   ]
  },
  {
   "cell_type": "markdown",
   "id": "da735257",
   "metadata": {
    "papermill": {
     "duration": 0.056199,
     "end_time": "2021-12-30T00:24:41.812188",
     "exception": false,
     "start_time": "2021-12-30T00:24:41.755989",
     "status": "completed"
    },
    "tags": []
   },
   "source": [
    "It looks like there is no really strong correlation between numerical features. There is no reproduction of any information.\n",
    "\n",
    "**Strongest one is correlation of SibSp** (number of siblings/spouses aboard the Titanic) **with ParCh** (numbert of parents/children aboard the Titanic), which is understandable. Families tend to travel together.\n",
    "\n",
    "**Second strongest correlation is negative correlation between SibSp and Age**. It means it's more likely to travel with sibling or spouse if you're young."
   ]
  },
  {
   "cell_type": "markdown",
   "id": "ca85ca51",
   "metadata": {
    "papermill": {
     "duration": 0.05609,
     "end_time": "2021-12-30T00:24:41.926333",
     "exception": false,
     "start_time": "2021-12-30T00:24:41.870243",
     "status": "completed"
    },
    "tags": []
   },
   "source": [
    "## 2.7. Average feature values depending on survival"
   ]
  },
  {
   "cell_type": "code",
   "execution_count": 13,
   "id": "1761c693",
   "metadata": {
    "execution": {
     "iopub.execute_input": "2021-12-30T00:24:42.047307Z",
     "iopub.status.busy": "2021-12-30T00:24:42.046339Z",
     "iopub.status.idle": "2021-12-30T00:24:42.079612Z",
     "shell.execute_reply": "2021-12-30T00:24:42.079130Z",
     "shell.execute_reply.started": "2021-12-30T00:23:07.932526Z"
    },
    "papermill": {
     "duration": 0.098355,
     "end_time": "2021-12-30T00:24:42.079754",
     "exception": false,
     "start_time": "2021-12-30T00:24:41.981399",
     "status": "completed"
    },
    "tags": []
   },
   "outputs": [
    {
     "data": {
      "text/html": [
       "<div>\n",
       "<style scoped>\n",
       "    .dataframe tbody tr th:only-of-type {\n",
       "        vertical-align: middle;\n",
       "    }\n",
       "\n",
       "    .dataframe tbody tr th {\n",
       "        vertical-align: top;\n",
       "    }\n",
       "\n",
       "    .dataframe thead th {\n",
       "        text-align: right;\n",
       "    }\n",
       "</style>\n",
       "<table border=\"1\" class=\"dataframe\">\n",
       "  <thead>\n",
       "    <tr style=\"text-align: right;\">\n",
       "      <th></th>\n",
       "      <th>Age</th>\n",
       "      <th>Fare</th>\n",
       "      <th>Parch</th>\n",
       "      <th>SibSp</th>\n",
       "    </tr>\n",
       "    <tr>\n",
       "      <th>Survived</th>\n",
       "      <th></th>\n",
       "      <th></th>\n",
       "      <th></th>\n",
       "      <th></th>\n",
       "    </tr>\n",
       "  </thead>\n",
       "  <tbody>\n",
       "    <tr>\n",
       "      <th>0</th>\n",
       "      <td>30.626179</td>\n",
       "      <td>22.117887</td>\n",
       "      <td>0.329690</td>\n",
       "      <td>0.553734</td>\n",
       "    </tr>\n",
       "    <tr>\n",
       "      <th>1</th>\n",
       "      <td>28.343690</td>\n",
       "      <td>48.395408</td>\n",
       "      <td>0.464912</td>\n",
       "      <td>0.473684</td>\n",
       "    </tr>\n",
       "  </tbody>\n",
       "</table>\n",
       "</div>"
      ],
      "text/plain": [
       "                Age       Fare     Parch     SibSp\n",
       "Survived                                          \n",
       "0         30.626179  22.117887  0.329690  0.553734\n",
       "1         28.343690  48.395408  0.464912  0.473684"
      ]
     },
     "execution_count": 13,
     "metadata": {},
     "output_type": "execute_result"
    }
   ],
   "source": [
    "pd.pivot_table(df_train, index='Survived', values=df_num.columns, aggfunc='mean')"
   ]
  },
  {
   "cell_type": "markdown",
   "id": "aca262db",
   "metadata": {
    "papermill": {
     "duration": 0.056212,
     "end_time": "2021-12-30T00:24:42.192501",
     "exception": false,
     "start_time": "2021-12-30T00:24:42.136289",
     "status": "completed"
    },
    "tags": []
   },
   "source": [
    "**Age**: We can see that people who survived tends to be younger than ones who didn't. \n",
    "\n",
    "**Fare**: They also statistically paid twice as much for their tickets.\n",
    "\n",
    "**ParCh**: Survivors were more likely to travel with parents or childrens.\n",
    "\n",
    "**SibSp**: Interesting statistic is that people travelling with siblings or spouse had lower percent of surviving."
   ]
  },
  {
   "cell_type": "markdown",
   "id": "c8ea74fd",
   "metadata": {
    "papermill": {
     "duration": 0.054783,
     "end_time": "2021-12-30T00:24:42.304665",
     "exception": false,
     "start_time": "2021-12-30T00:24:42.249882",
     "status": "completed"
    },
    "tags": []
   },
   "source": [
    "## 2.8. Survivorship depending on age and fare"
   ]
  },
  {
   "cell_type": "code",
   "execution_count": 14,
   "id": "adbedbdb",
   "metadata": {
    "execution": {
     "iopub.execute_input": "2021-12-30T00:24:42.417388Z",
     "iopub.status.busy": "2021-12-30T00:24:42.416776Z",
     "iopub.status.idle": "2021-12-30T00:24:42.725414Z",
     "shell.execute_reply": "2021-12-30T00:24:42.725923Z",
     "shell.execute_reply.started": "2021-12-30T00:23:07.964887Z"
    },
    "papermill": {
     "duration": 0.36636,
     "end_time": "2021-12-30T00:24:42.726092",
     "exception": false,
     "start_time": "2021-12-30T00:24:42.359732",
     "status": "completed"
    },
    "tags": []
   },
   "outputs": [
    {
     "data": {
      "text/plain": [
       "<AxesSubplot:xlabel='Age', ylabel='Fare'>"
      ]
     },
     "execution_count": 14,
     "metadata": {},
     "output_type": "execute_result"
    },
    {
     "data": {
      "image/png": "[encoded data removed]",
      "text/plain": [
       "<Figure size 1080x540 with 1 Axes>"
      ]
     },
     "metadata": {
      "needs_background": "light"
     },
     "output_type": "display_data"
    }
   ],
   "source": [
    "plt.figure(figsize=(15,7.5))\n",
    "plt.ylim(-10, 530)\n",
    "plt.xlim(-1, 82)\n",
    "sns.scatterplot(x='Age', y='Fare', hue='Survived', data=df_train)"
   ]
  },
  {
   "cell_type": "markdown",
   "id": "032f370d",
   "metadata": {
    "papermill": {
     "duration": 0.058312,
     "end_time": "2021-12-30T00:24:42.841885",
     "exception": false,
     "start_time": "2021-12-30T00:24:42.783573",
     "status": "completed"
    },
    "tags": []
   },
   "source": [
    "From this plot we can see tendencies that young people (under 10 years old) and people who paid more for their tickets, tend to survive more often."
   ]
  },
  {
   "cell_type": "markdown",
   "id": "d960f9fb",
   "metadata": {
    "papermill": {
     "duration": 0.056776,
     "end_time": "2021-12-30T00:24:42.955894",
     "exception": false,
     "start_time": "2021-12-30T00:24:42.899118",
     "status": "completed"
    },
    "tags": []
   },
   "source": [
    "## 2.9. Count plots for categorical features"
   ]
  },
  {
   "cell_type": "markdown",
   "id": "a03a8d30",
   "metadata": {
    "papermill": {
     "duration": 0.057006,
     "end_time": "2021-12-30T00:24:43.070749",
     "exception": false,
     "start_time": "2021-12-30T00:24:43.013743",
     "status": "completed"
    },
    "tags": []
   },
   "source": [
    "### Count survivorship"
   ]
  },
  {
   "cell_type": "code",
   "execution_count": 15,
   "id": "640ca905",
   "metadata": {
    "execution": {
     "iopub.execute_input": "2021-12-30T00:24:43.187802Z",
     "iopub.status.busy": "2021-12-30T00:24:43.187254Z",
     "iopub.status.idle": "2021-12-30T00:24:43.395872Z",
     "shell.execute_reply": "2021-12-30T00:24:43.395387Z",
     "shell.execute_reply.started": "2021-12-30T00:23:08.323880Z"
    },
    "papermill": {
     "duration": 0.268322,
     "end_time": "2021-12-30T00:24:43.396044",
     "exception": false,
     "start_time": "2021-12-30T00:24:43.127722",
     "status": "completed"
    },
    "tags": []
   },
   "outputs": [
    {
     "data": {
      "text/plain": [
       "[Text(0, 0, 'No'), Text(1, 0, 'Yes')]"
      ]
     },
     "execution_count": 15,
     "metadata": {},
     "output_type": "execute_result"
    },
    {
     "data": {
      "image/png": "[encoded data removed]",
      "text/plain": [
       "<Figure size 432x288 with 1 Axes>"
      ]
     },
     "metadata": {
      "needs_background": "light"
     },
     "output_type": "display_data"
    }
   ],
   "source": [
    "count_survivorship_plot = sns.countplot(x='Survived', data=df_cat)\n",
    "count_survivorship_plot.set_xticklabels(['No','Yes'])"
   ]
  },
  {
   "cell_type": "markdown",
   "id": "c11c97dd",
   "metadata": {
    "papermill": {
     "duration": 0.057817,
     "end_time": "2021-12-30T00:24:43.512539",
     "exception": false,
     "start_time": "2021-12-30T00:24:43.454722",
     "status": "completed"
    },
    "tags": []
   },
   "source": [
    "Most people didn't survive Titanic disaster"
   ]
  },
  {
   "cell_type": "markdown",
   "id": "79a600ef",
   "metadata": {
    "papermill": {
     "duration": 0.058862,
     "end_time": "2021-12-30T00:24:43.629859",
     "exception": false,
     "start_time": "2021-12-30T00:24:43.570997",
     "status": "completed"
    },
    "tags": []
   },
   "source": [
    "### Count survivorship by ticket class"
   ]
  },
  {
   "cell_type": "code",
   "execution_count": 16,
   "id": "df3131d3",
   "metadata": {
    "execution": {
     "iopub.execute_input": "2021-12-30T00:24:43.750183Z",
     "iopub.status.busy": "2021-12-30T00:24:43.749243Z",
     "iopub.status.idle": "2021-12-30T00:24:43.906519Z",
     "shell.execute_reply": "2021-12-30T00:24:43.906937Z",
     "shell.execute_reply.started": "2021-12-30T00:23:08.471850Z"
    },
    "papermill": {
     "duration": 0.218844,
     "end_time": "2021-12-30T00:24:43.907114",
     "exception": false,
     "start_time": "2021-12-30T00:24:43.688270",
     "status": "completed"
    },
    "tags": []
   },
   "outputs": [
    {
     "data": {
      "text/plain": [
       "<matplotlib.legend.Legend at 0x7fc6e1701250>"
      ]
     },
     "execution_count": 16,
     "metadata": {},
     "output_type": "execute_result"
    },
    {
     "data": {
      "image/png": "[encoded data removed]",
      "text/plain": [
       "<Figure size 432x288 with 1 Axes>"
      ]
     },
     "metadata": {
      "needs_background": "light"
     },
     "output_type": "display_data"
    }
   ],
   "source": [
    "count_class_plot = sns.countplot(x='Pclass', hue='Survived', data=df_cat)\n",
    "count_class_plot.legend([\"Didn't survived\", 'Survived'])"
   ]
  },
  {
   "cell_type": "markdown",
   "id": "e67efe08",
   "metadata": {
    "papermill": {
     "duration": 0.059929,
     "end_time": "2021-12-30T00:24:44.025805",
     "exception": false,
     "start_time": "2021-12-30T00:24:43.965876",
     "status": "completed"
    },
    "tags": []
   },
   "source": [
    "People with higher class tickets has greater chance of surviving. Especially big difference is when changing class from the cheapest to medium."
   ]
  },
  {
   "cell_type": "markdown",
   "id": "2ea3630b",
   "metadata": {
    "papermill": {
     "duration": 0.059846,
     "end_time": "2021-12-30T00:24:44.145118",
     "exception": false,
     "start_time": "2021-12-30T00:24:44.085272",
     "status": "completed"
    },
    "tags": []
   },
   "source": [
    "### Count survivorship by gender"
   ]
  },
  {
   "cell_type": "code",
   "execution_count": 17,
   "id": "398c4a7f",
   "metadata": {
    "execution": {
     "iopub.execute_input": "2021-12-30T00:24:44.268546Z",
     "iopub.status.busy": "2021-12-30T00:24:44.267633Z",
     "iopub.status.idle": "2021-12-30T00:24:44.409785Z",
     "shell.execute_reply": "2021-12-30T00:24:44.410209Z",
     "shell.execute_reply.started": "2021-12-30T00:23:08.673122Z"
    },
    "papermill": {
     "duration": 0.206013,
     "end_time": "2021-12-30T00:24:44.410381",
     "exception": false,
     "start_time": "2021-12-30T00:24:44.204368",
     "status": "completed"
    },
    "tags": []
   },
   "outputs": [
    {
     "data": {
      "text/plain": [
       "<matplotlib.legend.Legend at 0x7fc6e17c7dd0>"
      ]
     },
     "execution_count": 17,
     "metadata": {},
     "output_type": "execute_result"
    },
    {
     "data": {
      "image/png": "[encoded data removed]",
      "text/plain": [
       "<Figure size 432x288 with 1 Axes>"
      ]
     },
     "metadata": {
      "needs_background": "light"
     },
     "output_type": "display_data"
    }
   ],
   "source": [
    "count_gender_plot = sns.countplot(x='Sex', hue='Survived', data=df_cat)\n",
    "count_gender_plot.legend([\"Didn't survived\", 'Survived'])"
   ]
  },
  {
   "cell_type": "markdown",
   "id": "6e32370d",
   "metadata": {
    "papermill": {
     "duration": 0.060099,
     "end_time": "2021-12-30T00:24:44.530396",
     "exception": false,
     "start_time": "2021-12-30T00:24:44.470297",
     "status": "completed"
    },
    "tags": []
   },
   "source": [
    "As we can expect, women have much greater survivorship rate than men."
   ]
  },
  {
   "cell_type": "markdown",
   "id": "a11ebf65",
   "metadata": {
    "papermill": {
     "duration": 0.060851,
     "end_time": "2021-12-30T00:24:44.652671",
     "exception": false,
     "start_time": "2021-12-30T00:24:44.591820",
     "status": "completed"
    },
    "tags": []
   },
   "source": [
    "### Count survivorship by embarking location"
   ]
  },
  {
   "cell_type": "code",
   "execution_count": 18,
   "id": "8d236047",
   "metadata": {
    "execution": {
     "iopub.execute_input": "2021-12-30T00:24:44.776939Z",
     "iopub.status.busy": "2021-12-30T00:24:44.775999Z",
     "iopub.status.idle": "2021-12-30T00:24:44.947097Z",
     "shell.execute_reply": "2021-12-30T00:24:44.947554Z",
     "shell.execute_reply.started": "2021-12-30T00:23:08.844063Z"
    },
    "papermill": {
     "duration": 0.234713,
     "end_time": "2021-12-30T00:24:44.947715",
     "exception": false,
     "start_time": "2021-12-30T00:24:44.713002",
     "status": "completed"
    },
    "tags": []
   },
   "outputs": [
    {
     "data": {
      "text/plain": [
       "<matplotlib.legend.Legend at 0x7fc6e1931c10>"
      ]
     },
     "execution_count": 18,
     "metadata": {},
     "output_type": "execute_result"
    },
    {
     "data": {
      "image/png": "[encoded data removed]",
      "text/plain": [
       "<Figure size 432x288 with 1 Axes>"
      ]
     },
     "metadata": {
      "needs_background": "light"
     },
     "output_type": "display_data"
    }
   ],
   "source": [
    "count_embarking_plot = sns.countplot(x='Embarked', hue='Survived', data=df_cat)\n",
    "count_embarking_plot.set_xticklabels(['Southampton','Cherbourg','Queenstown'])\n",
    "count_embarking_plot.legend([\"Didn't survived\", 'Survived'])"
   ]
  },
  {
   "cell_type": "markdown",
   "id": "a4454abe",
   "metadata": {
    "papermill": {
     "duration": 0.062224,
     "end_time": "2021-12-30T00:24:45.070805",
     "exception": false,
     "start_time": "2021-12-30T00:24:45.008581",
     "status": "completed"
    },
    "tags": []
   },
   "source": [
    "People embarking from Cherbourg had higher chances to survive, but I'm not sure if it is important feature in case of predicting survivorship or just coincidence."
   ]
  },
  {
   "cell_type": "markdown",
   "id": "75eacbb8",
   "metadata": {
    "execution": {
     "iopub.execute_input": "2021-10-06T19:13:30.853974Z",
     "iopub.status.busy": "2021-10-06T19:13:30.853612Z",
     "iopub.status.idle": "2021-10-06T19:13:30.858253Z",
     "shell.execute_reply": "2021-10-06T19:13:30.856874Z",
     "shell.execute_reply.started": "2021-10-06T19:13:30.853944Z"
    },
    "papermill": {
     "duration": 0.061087,
     "end_time": "2021-12-30T00:24:45.194603",
     "exception": false,
     "start_time": "2021-12-30T00:24:45.133516",
     "status": "completed"
    },
    "tags": []
   },
   "source": [
    "# 3. Feature engineering"
   ]
  },
  {
   "cell_type": "markdown",
   "id": "c65c2912",
   "metadata": {
    "papermill": {
     "duration": 0.06283,
     "end_time": "2021-12-30T00:24:45.320318",
     "exception": false,
     "start_time": "2021-12-30T00:24:45.257488",
     "status": "completed"
    },
    "tags": []
   },
   "source": [
    "I will do transformations as on train as on test datast, so we can be sure that data have the same columns."
   ]
  },
  {
   "cell_type": "code",
   "execution_count": 19,
   "id": "c5942eb8",
   "metadata": {
    "execution": {
     "iopub.execute_input": "2021-12-30T00:24:45.449409Z",
     "iopub.status.busy": "2021-12-30T00:24:45.448465Z",
     "iopub.status.idle": "2021-12-30T00:24:45.452454Z",
     "shell.execute_reply": "2021-12-30T00:24:45.452897Z",
     "shell.execute_reply.started": "2021-12-30T00:23:09.057017Z"
    },
    "papermill": {
     "duration": 0.070288,
     "end_time": "2021-12-30T00:24:45.453115",
     "exception": false,
     "start_time": "2021-12-30T00:24:45.382827",
     "status": "completed"
    },
    "tags": []
   },
   "outputs": [],
   "source": [
    "data = [df_train, df_test]"
   ]
  },
  {
   "cell_type": "markdown",
   "id": "2195dfb5",
   "metadata": {
    "papermill": {
     "duration": 0.061136,
     "end_time": "2021-12-30T00:24:45.575266",
     "exception": false,
     "start_time": "2021-12-30T00:24:45.514130",
     "status": "completed"
    },
    "tags": []
   },
   "source": [
    "## 3.1. Getting rid of some features"
   ]
  },
  {
   "cell_type": "markdown",
   "id": "ce1d4c59",
   "metadata": {
    "papermill": {
     "duration": 0.060555,
     "end_time": "2021-12-30T00:24:45.696697",
     "exception": false,
     "start_time": "2021-12-30T00:24:45.636142",
     "status": "completed"
    },
    "tags": []
   },
   "source": [
    "I decided to drop two features:\n",
    "\n",
    "* Ticket\n",
    "* Cabine\n",
    "\n",
    "Both features seems to have some little predictive potential after thoughtful engineering, but at this moment I'm dropping them."
   ]
  },
  {
   "cell_type": "code",
   "execution_count": 20,
   "id": "e7197596",
   "metadata": {
    "execution": {
     "iopub.execute_input": "2021-12-30T00:24:45.822065Z",
     "iopub.status.busy": "2021-12-30T00:24:45.821091Z",
     "iopub.status.idle": "2021-12-30T00:24:45.827240Z",
     "shell.execute_reply": "2021-12-30T00:24:45.827775Z",
     "shell.execute_reply.started": "2021-12-30T00:23:09.063268Z"
    },
    "papermill": {
     "duration": 0.070772,
     "end_time": "2021-12-30T00:24:45.827968",
     "exception": false,
     "start_time": "2021-12-30T00:24:45.757196",
     "status": "completed"
    },
    "tags": []
   },
   "outputs": [],
   "source": [
    "for dataset in data:\n",
    "    dataset.drop(['Ticket', 'Cabin'], inplace=True, axis=1)"
   ]
  },
  {
   "cell_type": "markdown",
   "id": "a4fbc036",
   "metadata": {
    "papermill": {
     "duration": 0.059924,
     "end_time": "2021-12-30T00:24:45.948872",
     "exception": false,
     "start_time": "2021-12-30T00:24:45.888948",
     "status": "completed"
    },
    "tags": []
   },
   "source": [
    "I also drop PassengerId from df_train dataset because there is no need for this information in the training data (in the testing data we will use it to prepare final submission file)."
   ]
  },
  {
   "cell_type": "code",
   "execution_count": 21,
   "id": "24e10fc2",
   "metadata": {
    "execution": {
     "iopub.execute_input": "2021-12-30T00:24:46.075666Z",
     "iopub.status.busy": "2021-12-30T00:24:46.074774Z",
     "iopub.status.idle": "2021-12-30T00:24:46.079808Z",
     "shell.execute_reply": "2021-12-30T00:24:46.080278Z",
     "shell.execute_reply.started": "2021-12-30T00:23:09.079658Z"
    },
    "papermill": {
     "duration": 0.069201,
     "end_time": "2021-12-30T00:24:46.080444",
     "exception": false,
     "start_time": "2021-12-30T00:24:46.011243",
     "status": "completed"
    },
    "tags": []
   },
   "outputs": [],
   "source": [
    "df_train.drop(['PassengerId'], inplace=True, axis=1)"
   ]
  },
  {
   "cell_type": "markdown",
   "id": "727c23dc",
   "metadata": {
    "papermill": {
     "duration": 0.060785,
     "end_time": "2021-12-30T00:24:46.249275",
     "exception": false,
     "start_time": "2021-12-30T00:24:46.188490",
     "status": "completed"
    },
    "tags": []
   },
   "source": [
    "**More advanced feature engineering ideas:**\n",
    "\n",
    "* We could search for some pattern in Ticket ID's (e.g. separate tickets with letters). \n",
    "* In Cabine column there are a lot of missing values, but we could try to group cabines by its first letter (maybe we should group all NaN's together?)"
   ]
  },
  {
   "cell_type": "markdown",
   "id": "55db8c3c",
   "metadata": {
    "papermill": {
     "duration": 0.059942,
     "end_time": "2021-12-30T00:24:46.369725",
     "exception": false,
     "start_time": "2021-12-30T00:24:46.309783",
     "status": "completed"
    },
    "tags": []
   },
   "source": [
    "## 3.2. Extracting title from Name column"
   ]
  },
  {
   "cell_type": "code",
   "execution_count": 22,
   "id": "4b81edca",
   "metadata": {
    "execution": {
     "iopub.execute_input": "2021-12-30T00:24:46.494192Z",
     "iopub.status.busy": "2021-12-30T00:24:46.493274Z",
     "iopub.status.idle": "2021-12-30T00:24:46.502772Z",
     "shell.execute_reply": "2021-12-30T00:24:46.503306Z",
     "shell.execute_reply.started": "2021-12-30T00:23:09.099033Z"
    },
    "papermill": {
     "duration": 0.07317,
     "end_time": "2021-12-30T00:24:46.503471",
     "exception": false,
     "start_time": "2021-12-30T00:24:46.430301",
     "status": "completed"
    },
    "tags": []
   },
   "outputs": [],
   "source": [
    "for dataset in data:\n",
    "    dataset['Title'] = dataset['Name'].apply(lambda x: x.split(', ')[1].split('.')[0])\n",
    "    dataset.drop(['Name'], inplace=True, axis=1)"
   ]
  },
  {
   "cell_type": "markdown",
   "id": "38987384",
   "metadata": {
    "papermill": {
     "duration": 0.060869,
     "end_time": "2021-12-30T00:24:46.624767",
     "exception": false,
     "start_time": "2021-12-30T00:24:46.563898",
     "status": "completed"
    },
    "tags": []
   },
   "source": [
    "After extracting person's title from Name column, I'm dropping Name column because I don't see any more predictive potential here."
   ]
  },
  {
   "cell_type": "code",
   "execution_count": 23,
   "id": "8b54fdec",
   "metadata": {
    "execution": {
     "iopub.execute_input": "2021-12-30T00:24:46.749632Z",
     "iopub.status.busy": "2021-12-30T00:24:46.748733Z",
     "iopub.status.idle": "2021-12-30T00:24:46.758099Z",
     "shell.execute_reply": "2021-12-30T00:24:46.758675Z",
     "shell.execute_reply.started": "2021-12-30T00:23:09.118776Z"
    },
    "papermill": {
     "duration": 0.073422,
     "end_time": "2021-12-30T00:24:46.758842",
     "exception": false,
     "start_time": "2021-12-30T00:24:46.685420",
     "status": "completed"
    },
    "tags": []
   },
   "outputs": [
    {
     "data": {
      "text/plain": [
       "Mr              517\n",
       "Miss            182\n",
       "Mrs             125\n",
       "Master           40\n",
       "Dr                7\n",
       "Rev               6\n",
       "Col               2\n",
       "Major             2\n",
       "Mlle              2\n",
       "the Countess      1\n",
       "Ms                1\n",
       "Lady              1\n",
       "Sir               1\n",
       "Jonkheer          1\n",
       "Don               1\n",
       "Mme               1\n",
       "Capt              1\n",
       "Name: Title, dtype: int64"
      ]
     },
     "execution_count": 23,
     "metadata": {},
     "output_type": "execute_result"
    }
   ],
   "source": [
    "df_train['Title'].value_counts()"
   ]
  },
  {
   "cell_type": "markdown",
   "id": "b3eabcc3",
   "metadata": {
    "papermill": {
     "duration": 0.066935,
     "end_time": "2021-12-30T00:24:46.890047",
     "exception": false,
     "start_time": "2021-12-30T00:24:46.823112",
     "status": "completed"
    },
    "tags": []
   },
   "source": [
    "We can see there are four most popular Titles (Mr, Miss, Mrs, Master).\n",
    "\n",
    "Because there is not much people with other titles, I will group them together (as \"Rare\"), to make model simpler. "
   ]
  },
  {
   "cell_type": "code",
   "execution_count": 24,
   "id": "c7c76acf",
   "metadata": {
    "execution": {
     "iopub.execute_input": "2021-12-30T00:24:47.016167Z",
     "iopub.status.busy": "2021-12-30T00:24:47.015459Z",
     "iopub.status.idle": "2021-12-30T00:24:47.021759Z",
     "shell.execute_reply": "2021-12-30T00:24:47.022244Z",
     "shell.execute_reply.started": "2021-12-30T00:23:09.131154Z"
    },
    "papermill": {
     "duration": 0.07078,
     "end_time": "2021-12-30T00:24:47.022449",
     "exception": false,
     "start_time": "2021-12-30T00:24:46.951669",
     "status": "completed"
    },
    "tags": []
   },
   "outputs": [],
   "source": [
    "popular_titles = df_train['Title'].value_counts()[:4].index.tolist()\n",
    "\n",
    "for dataset in data:\n",
    "    dataset['Title'] = dataset['Title'].apply(lambda x: 'Rare' if x not in popular_titles else x)"
   ]
  },
  {
   "cell_type": "code",
   "execution_count": 25,
   "id": "6e729d03",
   "metadata": {
    "execution": {
     "iopub.execute_input": "2021-12-30T00:24:47.149241Z",
     "iopub.status.busy": "2021-12-30T00:24:47.148588Z",
     "iopub.status.idle": "2021-12-30T00:24:47.155253Z",
     "shell.execute_reply": "2021-12-30T00:24:47.155807Z",
     "shell.execute_reply.started": "2021-12-30T00:23:09.145745Z"
    },
    "papermill": {
     "duration": 0.072113,
     "end_time": "2021-12-30T00:24:47.155997",
     "exception": false,
     "start_time": "2021-12-30T00:24:47.083884",
     "status": "completed"
    },
    "tags": []
   },
   "outputs": [
    {
     "data": {
      "text/plain": [
       "Mr        517\n",
       "Miss      182\n",
       "Mrs       125\n",
       "Master     40\n",
       "Rare       27\n",
       "Name: Title, dtype: int64"
      ]
     },
     "execution_count": 25,
     "metadata": {},
     "output_type": "execute_result"
    }
   ],
   "source": [
    "df_train['Title'].value_counts()"
   ]
  },
  {
   "cell_type": "markdown",
   "id": "45496721",
   "metadata": {
    "papermill": {
     "duration": 0.062392,
     "end_time": "2021-12-30T00:24:47.281284",
     "exception": false,
     "start_time": "2021-12-30T00:24:47.218892",
     "status": "completed"
    },
    "tags": []
   },
   "source": [
    "**More advanced feature engineering ideas:**\n",
    "\n",
    "If we would want to be more accurate, we could try to deep analyse every title and make more specifisc groups. \n",
    "\n",
    "We could also change some 'rare' titles to already existing ones (e.g. French \"Mlle\" is equivalent to the English \"Miss\")"
   ]
  },
  {
   "cell_type": "markdown",
   "id": "faa4fd49",
   "metadata": {
    "papermill": {
     "duration": 0.061348,
     "end_time": "2021-12-30T00:24:47.404995",
     "exception": false,
     "start_time": "2021-12-30T00:24:47.343647",
     "status": "completed"
    },
    "tags": []
   },
   "source": [
    "## 3.3. Inputting missing values"
   ]
  },
  {
   "cell_type": "markdown",
   "id": "6cdc1d32",
   "metadata": {
    "papermill": {
     "duration": 0.061756,
     "end_time": "2021-12-30T00:24:47.527956",
     "exception": false,
     "start_time": "2021-12-30T00:24:47.466200",
     "status": "completed"
    },
    "tags": []
   },
   "source": [
    "As we could see in EDA (2.4), datasets consist some missing values in four columns - Age, Cabin, Fare, Embarked.\n",
    "\n",
    "At the start of the feature engeering phase, we got rid of Cabin column (3.1).\n",
    "\n",
    "Now, I'll input missing values for Age, Fare and Embarked column."
   ]
  },
  {
   "cell_type": "markdown",
   "id": "c7413b7b",
   "metadata": {
    "papermill": {
     "duration": 0.06561,
     "end_time": "2021-12-30T00:24:47.654837",
     "exception": false,
     "start_time": "2021-12-30T00:24:47.589227",
     "status": "completed"
    },
    "tags": []
   },
   "source": [
    "### 3.3.1. Fill Embarked missing values"
   ]
  },
  {
   "cell_type": "markdown",
   "id": "720c37f7",
   "metadata": {
    "papermill": {
     "duration": 0.060876,
     "end_time": "2021-12-30T00:24:47.777303",
     "exception": false,
     "start_time": "2021-12-30T00:24:47.716427",
     "status": "completed"
    },
    "tags": []
   },
   "source": [
    "I replace NaN values in Embarked column with most frequent value (S)."
   ]
  },
  {
   "cell_type": "code",
   "execution_count": 26,
   "id": "a3ccae66",
   "metadata": {
    "execution": {
     "iopub.execute_input": "2021-12-30T00:24:47.904186Z",
     "iopub.status.busy": "2021-12-30T00:24:47.903579Z",
     "iopub.status.idle": "2021-12-30T00:24:47.909115Z",
     "shell.execute_reply": "2021-12-30T00:24:47.909619Z",
     "shell.execute_reply.started": "2021-12-30T00:23:09.168039Z"
    },
    "papermill": {
     "duration": 0.06997,
     "end_time": "2021-12-30T00:24:47.909787",
     "exception": false,
     "start_time": "2021-12-30T00:24:47.839817",
     "status": "completed"
    },
    "tags": []
   },
   "outputs": [],
   "source": [
    "for dataset in data:\n",
    "    dataset['Embarked'].fillna(dataset['Embarked'].mode()[0], inplace=True)"
   ]
  },
  {
   "cell_type": "markdown",
   "id": "d1d20f13",
   "metadata": {
    "papermill": {
     "duration": 0.061597,
     "end_time": "2021-12-30T00:24:48.033780",
     "exception": false,
     "start_time": "2021-12-30T00:24:47.972183",
     "status": "completed"
    },
    "tags": []
   },
   "source": [
    "### 3.3.2. Fill Age missing values"
   ]
  },
  {
   "cell_type": "markdown",
   "id": "9cbca62d",
   "metadata": {
    "papermill": {
     "duration": 0.061633,
     "end_time": "2021-12-30T00:24:48.157943",
     "exception": false,
     "start_time": "2021-12-30T00:24:48.096310",
     "status": "completed"
    },
    "tags": []
   },
   "source": [
    "I decided to input NaN values in Age column with median of corresponding \"Sex\",\"Pclass\" groups.\n",
    "\n",
    "At first, let's look at the median value of each group."
   ]
  },
  {
   "cell_type": "code",
   "execution_count": 27,
   "id": "31ac0463",
   "metadata": {
    "execution": {
     "iopub.execute_input": "2021-12-30T00:24:48.285424Z",
     "iopub.status.busy": "2021-12-30T00:24:48.284800Z",
     "iopub.status.idle": "2021-12-30T00:24:48.295748Z",
     "shell.execute_reply": "2021-12-30T00:24:48.296267Z",
     "shell.execute_reply.started": "2021-12-30T00:23:09.190048Z"
    },
    "papermill": {
     "duration": 0.076851,
     "end_time": "2021-12-30T00:24:48.296442",
     "exception": false,
     "start_time": "2021-12-30T00:24:48.219591",
     "status": "completed"
    },
    "tags": []
   },
   "outputs": [
    {
     "data": {
      "text/plain": [
       "Sex     Pclass\n",
       "female  1         41.0\n",
       "        2         24.0\n",
       "        3         22.0\n",
       "male    1         42.0\n",
       "        2         28.0\n",
       "        3         24.0\n",
       "Name: Age, dtype: float64"
      ]
     },
     "execution_count": 27,
     "metadata": {},
     "output_type": "execute_result"
    }
   ],
   "source": [
    "dataset.groupby(['Sex', 'Pclass'])['Age'].median()"
   ]
  },
  {
   "cell_type": "markdown",
   "id": "6d9e266e",
   "metadata": {
    "papermill": {
     "duration": 0.061739,
     "end_time": "2021-12-30T00:24:48.420579",
     "exception": false,
     "start_time": "2021-12-30T00:24:48.358840",
     "status": "completed"
    },
    "tags": []
   },
   "source": [
    "We see that the median age of people traveling first class, is significantly higher. We can also see some little tendency, that median of women's age is smaller.\n",
    "\n",
    "Now I fill NaN values with median of values in corresponding group."
   ]
  },
  {
   "cell_type": "code",
   "execution_count": 28,
   "id": "61e0d8ad",
   "metadata": {
    "execution": {
     "iopub.execute_input": "2021-12-30T00:24:48.548147Z",
     "iopub.status.busy": "2021-12-30T00:24:48.547424Z",
     "iopub.status.idle": "2021-12-30T00:24:48.561046Z",
     "shell.execute_reply": "2021-12-30T00:24:48.561546Z",
     "shell.execute_reply.started": "2021-12-30T00:23:09.210206Z"
    },
    "papermill": {
     "duration": 0.07876,
     "end_time": "2021-12-30T00:24:48.561725",
     "exception": false,
     "start_time": "2021-12-30T00:24:48.482965",
     "status": "completed"
    },
    "tags": []
   },
   "outputs": [],
   "source": [
    "for dataset in data:\n",
    "    dataset['Age'] = dataset.groupby(['Sex', 'Pclass'])['Age'].apply(lambda x: x.fillna(x.median()))"
   ]
  },
  {
   "cell_type": "markdown",
   "id": "90b7d363",
   "metadata": {
    "papermill": {
     "duration": 0.061828,
     "end_time": "2021-12-30T00:24:48.686712",
     "exception": false,
     "start_time": "2021-12-30T00:24:48.624884",
     "status": "completed"
    },
    "tags": []
   },
   "source": [
    "### 3.3.3. Fill Fare missing value"
   ]
  },
  {
   "cell_type": "markdown",
   "id": "9fa1a8db",
   "metadata": {
    "papermill": {
     "duration": 0.061646,
     "end_time": "2021-12-30T00:24:48.810636",
     "exception": false,
     "start_time": "2021-12-30T00:24:48.748990",
     "status": "completed"
    },
    "tags": []
   },
   "source": [
    "Using similar technique, I fill the missing value in the Fare column."
   ]
  },
  {
   "cell_type": "code",
   "execution_count": 29,
   "id": "a1491323",
   "metadata": {
    "execution": {
     "iopub.execute_input": "2021-12-30T00:24:48.937731Z",
     "iopub.status.busy": "2021-12-30T00:24:48.937157Z",
     "iopub.status.idle": "2021-12-30T00:24:48.950777Z",
     "shell.execute_reply": "2021-12-30T00:24:48.950284Z",
     "shell.execute_reply.started": "2021-12-30T00:23:09.238200Z"
    },
    "papermill": {
     "duration": 0.078421,
     "end_time": "2021-12-30T00:24:48.950945",
     "exception": false,
     "start_time": "2021-12-30T00:24:48.872524",
     "status": "completed"
    },
    "tags": []
   },
   "outputs": [],
   "source": [
    "for dataset in data:\n",
    "    dataset['Fare'] = dataset.groupby(['Sex', 'Pclass'])['Fare'].apply(lambda x: x.fillna(x.median()))"
   ]
  },
  {
   "cell_type": "markdown",
   "id": "ef586295",
   "metadata": {
    "papermill": {
     "duration": 0.062151,
     "end_time": "2021-12-30T00:24:49.076516",
     "exception": false,
     "start_time": "2021-12-30T00:24:49.014365",
     "status": "completed"
    },
    "tags": []
   },
   "source": [
    "### 3.3.4. Check missing values"
   ]
  },
  {
   "cell_type": "code",
   "execution_count": 30,
   "id": "9e98631d",
   "metadata": {
    "execution": {
     "iopub.execute_input": "2021-12-30T00:24:49.209513Z",
     "iopub.status.busy": "2021-12-30T00:24:49.208858Z",
     "iopub.status.idle": "2021-12-30T00:24:49.212346Z",
     "shell.execute_reply": "2021-12-30T00:24:49.212875Z",
     "shell.execute_reply.started": "2021-12-30T00:23:09.261877Z"
    },
    "papermill": {
     "duration": 0.072788,
     "end_time": "2021-12-30T00:24:49.213077",
     "exception": false,
     "start_time": "2021-12-30T00:24:49.140289",
     "status": "completed"
    },
    "tags": []
   },
   "outputs": [
    {
     "name": "stdout",
     "output_type": "stream",
     "text": [
      "Train dataset consist missing values: False\n",
      "Train dataset consist missing values: False\n"
     ]
    }
   ],
   "source": [
    "print(\"Train dataset consist missing values: \" + str(df_train.isnull().values.any()))\n",
    "print(\"Train dataset consist missing values: \" + str(df_test.isnull().values.any()))"
   ]
  },
  {
   "cell_type": "markdown",
   "id": "38902022",
   "metadata": {
    "papermill": {
     "duration": 0.063022,
     "end_time": "2021-12-30T00:24:49.338598",
     "exception": false,
     "start_time": "2021-12-30T00:24:49.275576",
     "status": "completed"
    },
    "tags": []
   },
   "source": [
    "Now, there are no more missing values in the datasets."
   ]
  },
  {
   "cell_type": "markdown",
   "id": "fed4f920",
   "metadata": {
    "execution": {
     "iopub.execute_input": "2021-11-09T22:30:50.804845Z",
     "iopub.status.busy": "2021-11-09T22:30:50.804458Z",
     "iopub.status.idle": "2021-11-09T22:30:50.808923Z",
     "shell.execute_reply": "2021-11-09T22:30:50.807903Z",
     "shell.execute_reply.started": "2021-11-09T22:30:50.804813Z"
    },
    "papermill": {
     "duration": 0.061975,
     "end_time": "2021-12-30T00:24:49.463696",
     "exception": false,
     "start_time": "2021-12-30T00:24:49.401721",
     "status": "completed"
    },
    "tags": []
   },
   "source": [
    "## 3.4. Encoding"
   ]
  },
  {
   "cell_type": "code",
   "execution_count": 31,
   "id": "216be65c",
   "metadata": {
    "execution": {
     "iopub.execute_input": "2021-12-30T00:24:49.602736Z",
     "iopub.status.busy": "2021-12-30T00:24:49.602088Z",
     "iopub.status.idle": "2021-12-30T00:24:49.606653Z",
     "shell.execute_reply": "2021-12-30T00:24:49.606090Z",
     "shell.execute_reply.started": "2021-12-30T00:23:09.277096Z"
    },
    "papermill": {
     "duration": 0.08124,
     "end_time": "2021-12-30T00:24:49.606783",
     "exception": false,
     "start_time": "2021-12-30T00:24:49.525543",
     "status": "completed"
    },
    "tags": []
   },
   "outputs": [
    {
     "data": {
      "text/html": [
       "<div>\n",
       "<style scoped>\n",
       "    .dataframe tbody tr th:only-of-type {\n",
       "        vertical-align: middle;\n",
       "    }\n",
       "\n",
       "    .dataframe tbody tr th {\n",
       "        vertical-align: top;\n",
       "    }\n",
       "\n",
       "    .dataframe thead th {\n",
       "        text-align: right;\n",
       "    }\n",
       "</style>\n",
       "<table border=\"1\" class=\"dataframe\">\n",
       "  <thead>\n",
       "    <tr style=\"text-align: right;\">\n",
       "      <th></th>\n",
       "      <th>PassengerId</th>\n",
       "      <th>Pclass</th>\n",
       "      <th>Sex</th>\n",
       "      <th>Age</th>\n",
       "      <th>SibSp</th>\n",
       "      <th>Parch</th>\n",
       "      <th>Fare</th>\n",
       "      <th>Embarked</th>\n",
       "      <th>Title</th>\n",
       "    </tr>\n",
       "  </thead>\n",
       "  <tbody>\n",
       "    <tr>\n",
       "      <th>0</th>\n",
       "      <td>892</td>\n",
       "      <td>3</td>\n",
       "      <td>male</td>\n",
       "      <td>34.5</td>\n",
       "      <td>0</td>\n",
       "      <td>0</td>\n",
       "      <td>7.8292</td>\n",
       "      <td>Q</td>\n",
       "      <td>Mr</td>\n",
       "    </tr>\n",
       "    <tr>\n",
       "      <th>1</th>\n",
       "      <td>893</td>\n",
       "      <td>3</td>\n",
       "      <td>female</td>\n",
       "      <td>47.0</td>\n",
       "      <td>1</td>\n",
       "      <td>0</td>\n",
       "      <td>7.0000</td>\n",
       "      <td>S</td>\n",
       "      <td>Mrs</td>\n",
       "    </tr>\n",
       "    <tr>\n",
       "      <th>2</th>\n",
       "      <td>894</td>\n",
       "      <td>2</td>\n",
       "      <td>male</td>\n",
       "      <td>62.0</td>\n",
       "      <td>0</td>\n",
       "      <td>0</td>\n",
       "      <td>9.6875</td>\n",
       "      <td>Q</td>\n",
       "      <td>Mr</td>\n",
       "    </tr>\n",
       "    <tr>\n",
       "      <th>3</th>\n",
       "      <td>895</td>\n",
       "      <td>3</td>\n",
       "      <td>male</td>\n",
       "      <td>27.0</td>\n",
       "      <td>0</td>\n",
       "      <td>0</td>\n",
       "      <td>8.6625</td>\n",
       "      <td>S</td>\n",
       "      <td>Mr</td>\n",
       "    </tr>\n",
       "    <tr>\n",
       "      <th>4</th>\n",
       "      <td>896</td>\n",
       "      <td>3</td>\n",
       "      <td>female</td>\n",
       "      <td>22.0</td>\n",
       "      <td>1</td>\n",
       "      <td>1</td>\n",
       "      <td>12.2875</td>\n",
       "      <td>S</td>\n",
       "      <td>Mrs</td>\n",
       "    </tr>\n",
       "  </tbody>\n",
       "</table>\n",
       "</div>"
      ],
      "text/plain": [
       "   PassengerId  Pclass     Sex   Age  SibSp  Parch     Fare Embarked Title\n",
       "0          892       3    male  34.5      0      0   7.8292        Q    Mr\n",
       "1          893       3  female  47.0      1      0   7.0000        S   Mrs\n",
       "2          894       2    male  62.0      0      0   9.6875        Q    Mr\n",
       "3          895       3    male  27.0      0      0   8.6625        S    Mr\n",
       "4          896       3  female  22.0      1      1  12.2875        S   Mrs"
      ]
     },
     "execution_count": 31,
     "metadata": {},
     "output_type": "execute_result"
    }
   ],
   "source": [
    "df_test.head()"
   ]
  },
  {
   "cell_type": "markdown",
   "id": "faa1bbf9",
   "metadata": {
    "papermill": {
     "duration": 0.062029,
     "end_time": "2021-12-30T00:24:49.731741",
     "exception": false,
     "start_time": "2021-12-30T00:24:49.669712",
     "status": "completed"
    },
    "tags": []
   },
   "source": [
    "### 3.4.1. Continous variables into categorical"
   ]
  },
  {
   "cell_type": "markdown",
   "id": "f1aa50af",
   "metadata": {
    "papermill": {
     "duration": 0.06353,
     "end_time": "2021-12-30T00:24:49.857221",
     "exception": false,
     "start_time": "2021-12-30T00:24:49.793691",
     "status": "completed"
    },
    "tags": []
   },
   "source": [
    "At this moment, dataset consists mainly categorical features. \n",
    "\n",
    "At first, I'am going to change remaining continous features (Age and Fare) into categorical ones with order. \n",
    "\n",
    "Values in Age column have been divided into five groups as following:"
   ]
  },
  {
   "cell_type": "code",
   "execution_count": 32,
   "id": "77b03e78",
   "metadata": {
    "execution": {
     "iopub.execute_input": "2021-12-30T00:24:50.000828Z",
     "iopub.status.busy": "2021-12-30T00:24:50.000139Z",
     "iopub.status.idle": "2021-12-30T00:24:50.002610Z",
     "shell.execute_reply": "2021-12-30T00:24:50.003070Z",
     "shell.execute_reply.started": "2021-12-30T00:23:09.302099Z"
    },
    "papermill": {
     "duration": 0.083746,
     "end_time": "2021-12-30T00:24:50.003236",
     "exception": false,
     "start_time": "2021-12-30T00:24:49.919490",
     "status": "completed"
    },
    "tags": []
   },
   "outputs": [],
   "source": [
    "for dataset in data:\n",
    "    dataset['Age'] = dataset['Age'].astype(int)\n",
    "    dataset.loc[ dataset['Age'] <= 14, 'Age'] = 0\n",
    "    dataset.loc[(dataset['Age'] > 14) & (dataset['Age'] <= 20), 'Age'] = 1\n",
    "    dataset.loc[(dataset['Age'] > 20) & (dataset['Age'] <= 24), 'Age'] = 2\n",
    "    dataset.loc[(dataset['Age'] > 24) & (dataset['Age'] <= 30), 'Age'] = 3\n",
    "    dataset.loc[(dataset['Age'] > 30) & (dataset['Age'] <= 38), 'Age'] = 4\n",
    "    dataset.loc[(dataset['Age'] > 38) & (dataset['Age'] <= 50), 'Age'] = 5\n",
    "    dataset.loc[ dataset['Age'] > 50, 'Age'] = 6"
   ]
  },
  {
   "cell_type": "markdown",
   "id": "885bda13",
   "metadata": {
    "papermill": {
     "duration": 0.06358,
     "end_time": "2021-12-30T00:24:50.129764",
     "exception": false,
     "start_time": "2021-12-30T00:24:50.066184",
     "status": "completed"
    },
    "tags": []
   },
   "source": [
    "Let's look at the distribution of Age bins."
   ]
  },
  {
   "cell_type": "code",
   "execution_count": 33,
   "id": "efd4aa82",
   "metadata": {
    "execution": {
     "iopub.execute_input": "2021-12-30T00:24:50.258101Z",
     "iopub.status.busy": "2021-12-30T00:24:50.257469Z",
     "iopub.status.idle": "2021-12-30T00:24:50.264216Z",
     "shell.execute_reply": "2021-12-30T00:24:50.264706Z",
     "shell.execute_reply.started": "2021-12-30T00:23:09.332153Z"
    },
    "papermill": {
     "duration": 0.072177,
     "end_time": "2021-12-30T00:24:50.264873",
     "exception": false,
     "start_time": "2021-12-30T00:24:50.192696",
     "status": "completed"
    },
    "tags": []
   },
   "outputs": [
    {
     "data": {
      "text/plain": [
       "3    238\n",
       "2    140\n",
       "4    135\n",
       "5    134\n",
       "1    102\n",
       "0     78\n",
       "6     64\n",
       "Name: Age, dtype: int64"
      ]
     },
     "execution_count": 33,
     "metadata": {},
     "output_type": "execute_result"
    }
   ],
   "source": [
    "df_train['Age'].value_counts()"
   ]
  },
  {
   "cell_type": "markdown",
   "id": "2872ab49",
   "metadata": {
    "papermill": {
     "duration": 0.06229,
     "end_time": "2021-12-30T00:24:50.390527",
     "exception": false,
     "start_time": "2021-12-30T00:24:50.328237",
     "status": "completed"
    },
    "tags": []
   },
   "source": [
    "Now I use pandas method 'cut' to bin values from Fare column into discrete intervals as following:"
   ]
  },
  {
   "cell_type": "code",
   "execution_count": 34,
   "id": "125396ea",
   "metadata": {
    "execution": {
     "iopub.execute_input": "2021-12-30T00:24:50.517961Z",
     "iopub.status.busy": "2021-12-30T00:24:50.517377Z",
     "iopub.status.idle": "2021-12-30T00:24:50.525766Z",
     "shell.execute_reply": "2021-12-30T00:24:50.526306Z",
     "shell.execute_reply.started": "2021-12-30T00:23:09.345024Z"
    },
    "papermill": {
     "duration": 0.073623,
     "end_time": "2021-12-30T00:24:50.526464",
     "exception": false,
     "start_time": "2021-12-30T00:24:50.452841",
     "status": "completed"
    },
    "tags": []
   },
   "outputs": [
    {
     "data": {
      "text/plain": [
       "min      0.0000\n",
       "25%      7.9104\n",
       "50%     14.4542\n",
       "75%     31.0000\n",
       "max    512.3292\n",
       "Name: Fare, dtype: float64"
      ]
     },
     "execution_count": 34,
     "metadata": {},
     "output_type": "execute_result"
    }
   ],
   "source": [
    "df_train['Fare'].describe()[3:]"
   ]
  },
  {
   "cell_type": "code",
   "execution_count": 35,
   "id": "d78f7b36",
   "metadata": {
    "execution": {
     "iopub.execute_input": "2021-12-30T00:24:50.680212Z",
     "iopub.status.busy": "2021-12-30T00:24:50.679237Z",
     "iopub.status.idle": "2021-12-30T00:24:50.687062Z",
     "shell.execute_reply": "2021-12-30T00:24:50.687551Z",
     "shell.execute_reply.started": "2021-12-30T00:23:09.361843Z"
    },
    "papermill": {
     "duration": 0.098282,
     "end_time": "2021-12-30T00:24:50.687717",
     "exception": false,
     "start_time": "2021-12-30T00:24:50.589435",
     "status": "completed"
    },
    "tags": []
   },
   "outputs": [],
   "source": [
    "# boundaries of the bins\n",
    "bins = [0, 7.9104, 14.4542, 31.0, 512.3292]\n",
    "# labels of the bins\n",
    "labels = [0, 1, 2, 3]\n",
    "\n",
    "for dataset in data:\n",
    "    dataset['Fare'] = pd.cut(dataset['Fare'], bins, labels=labels)"
   ]
  },
  {
   "cell_type": "markdown",
   "id": "e7ee9fa1",
   "metadata": {
    "papermill": {
     "duration": 0.066772,
     "end_time": "2021-12-30T00:24:50.828225",
     "exception": false,
     "start_time": "2021-12-30T00:24:50.761453",
     "status": "completed"
    },
    "tags": []
   },
   "source": [
    "Now, every feature in datasets is categorical."
   ]
  },
  {
   "cell_type": "code",
   "execution_count": 36,
   "id": "ae9f1e80",
   "metadata": {
    "execution": {
     "iopub.execute_input": "2021-12-30T00:24:50.960137Z",
     "iopub.status.busy": "2021-12-30T00:24:50.959539Z",
     "iopub.status.idle": "2021-12-30T00:24:50.972551Z",
     "shell.execute_reply": "2021-12-30T00:24:50.973122Z",
     "shell.execute_reply.started": "2021-12-30T00:23:09.374792Z"
    },
    "papermill": {
     "duration": 0.080561,
     "end_time": "2021-12-30T00:24:50.973285",
     "exception": false,
     "start_time": "2021-12-30T00:24:50.892724",
     "status": "completed"
    },
    "tags": []
   },
   "outputs": [
    {
     "data": {
      "text/html": [
       "<div>\n",
       "<style scoped>\n",
       "    .dataframe tbody tr th:only-of-type {\n",
       "        vertical-align: middle;\n",
       "    }\n",
       "\n",
       "    .dataframe tbody tr th {\n",
       "        vertical-align: top;\n",
       "    }\n",
       "\n",
       "    .dataframe thead th {\n",
       "        text-align: right;\n",
       "    }\n",
       "</style>\n",
       "<table border=\"1\" class=\"dataframe\">\n",
       "  <thead>\n",
       "    <tr style=\"text-align: right;\">\n",
       "      <th></th>\n",
       "      <th>Survived</th>\n",
       "      <th>Pclass</th>\n",
       "      <th>Sex</th>\n",
       "      <th>Age</th>\n",
       "      <th>SibSp</th>\n",
       "      <th>Parch</th>\n",
       "      <th>Fare</th>\n",
       "      <th>Embarked</th>\n",
       "      <th>Title</th>\n",
       "    </tr>\n",
       "  </thead>\n",
       "  <tbody>\n",
       "    <tr>\n",
       "      <th>0</th>\n",
       "      <td>0</td>\n",
       "      <td>3</td>\n",
       "      <td>male</td>\n",
       "      <td>2</td>\n",
       "      <td>1</td>\n",
       "      <td>0</td>\n",
       "      <td>0</td>\n",
       "      <td>S</td>\n",
       "      <td>Mr</td>\n",
       "    </tr>\n",
       "    <tr>\n",
       "      <th>1</th>\n",
       "      <td>1</td>\n",
       "      <td>1</td>\n",
       "      <td>female</td>\n",
       "      <td>4</td>\n",
       "      <td>1</td>\n",
       "      <td>0</td>\n",
       "      <td>3</td>\n",
       "      <td>C</td>\n",
       "      <td>Mrs</td>\n",
       "    </tr>\n",
       "    <tr>\n",
       "      <th>2</th>\n",
       "      <td>1</td>\n",
       "      <td>3</td>\n",
       "      <td>female</td>\n",
       "      <td>3</td>\n",
       "      <td>0</td>\n",
       "      <td>0</td>\n",
       "      <td>1</td>\n",
       "      <td>S</td>\n",
       "      <td>Miss</td>\n",
       "    </tr>\n",
       "    <tr>\n",
       "      <th>3</th>\n",
       "      <td>1</td>\n",
       "      <td>1</td>\n",
       "      <td>female</td>\n",
       "      <td>4</td>\n",
       "      <td>1</td>\n",
       "      <td>0</td>\n",
       "      <td>3</td>\n",
       "      <td>S</td>\n",
       "      <td>Mrs</td>\n",
       "    </tr>\n",
       "    <tr>\n",
       "      <th>4</th>\n",
       "      <td>0</td>\n",
       "      <td>3</td>\n",
       "      <td>male</td>\n",
       "      <td>4</td>\n",
       "      <td>0</td>\n",
       "      <td>0</td>\n",
       "      <td>1</td>\n",
       "      <td>S</td>\n",
       "      <td>Mr</td>\n",
       "    </tr>\n",
       "  </tbody>\n",
       "</table>\n",
       "</div>"
      ],
      "text/plain": [
       "   Survived  Pclass     Sex  Age  SibSp  Parch Fare Embarked Title\n",
       "0         0       3    male    2      1      0    0        S    Mr\n",
       "1         1       1  female    4      1      0    3        C   Mrs\n",
       "2         1       3  female    3      0      0    1        S  Miss\n",
       "3         1       1  female    4      1      0    3        S   Mrs\n",
       "4         0       3    male    4      0      0    1        S    Mr"
      ]
     },
     "execution_count": 36,
     "metadata": {},
     "output_type": "execute_result"
    }
   ],
   "source": [
    "df_train.head()"
   ]
  },
  {
   "cell_type": "markdown",
   "id": "9ca4f666",
   "metadata": {
    "papermill": {
     "duration": 0.063044,
     "end_time": "2021-12-30T00:24:51.099535",
     "exception": false,
     "start_time": "2021-12-30T00:24:51.036491",
     "status": "completed"
    },
    "tags": []
   },
   "source": [
    "### 3.4.2. One hot encoding"
   ]
  },
  {
   "cell_type": "markdown",
   "id": "e1c48a63",
   "metadata": {
    "papermill": {
     "duration": 0.062767,
     "end_time": "2021-12-30T00:24:51.225210",
     "exception": false,
     "start_time": "2021-12-30T00:24:51.162443",
     "status": "completed"
    },
    "tags": []
   },
   "source": [
    "Now, let's one hot encode Sex, Embarked and Title columns.\n",
    "\n",
    "The reason why I'am doing one-hot encoding insted od using LabelEncoder() is that values in these columns do not have any logical order.\n",
    "\n",
    "I've used drop_first argument to remove rendundant data."
   ]
  },
  {
   "cell_type": "code",
   "execution_count": 37,
   "id": "997ef6cf",
   "metadata": {
    "execution": {
     "iopub.execute_input": "2021-12-30T00:24:51.355304Z",
     "iopub.status.busy": "2021-12-30T00:24:51.354626Z",
     "iopub.status.idle": "2021-12-30T00:24:51.373165Z",
     "shell.execute_reply": "2021-12-30T00:24:51.373849Z",
     "shell.execute_reply.started": "2021-12-30T00:23:09.393954Z"
    },
    "papermill": {
     "duration": 0.085332,
     "end_time": "2021-12-30T00:24:51.374065",
     "exception": false,
     "start_time": "2021-12-30T00:24:51.288733",
     "status": "completed"
    },
    "tags": []
   },
   "outputs": [],
   "source": [
    "# One hot encoding for df_train\n",
    "dummies = pd.get_dummies(df_train[['Sex', 'Embarked', 'Title']], drop_first=True)\n",
    "df_train.drop(['Sex', 'Embarked', 'Title'], axis=1, inplace=True)\n",
    "df_train = pd.concat([df_train, dummies], axis=1)\n",
    "\n",
    "# One hot encoding for df_test\n",
    "dummies = pd.get_dummies(df_test[['Sex', 'Embarked', 'Title']], drop_first=True)\n",
    "df_test.drop(['Sex', 'Embarked', 'Title'], axis=1, inplace=True)\n",
    "df_test = pd.concat([df_test, dummies], axis=1)"
   ]
  },
  {
   "cell_type": "markdown",
   "id": "1bf9f45e",
   "metadata": {
    "papermill": {
     "duration": 0.063535,
     "end_time": "2021-12-30T00:24:51.501798",
     "exception": false,
     "start_time": "2021-12-30T00:24:51.438263",
     "status": "completed"
    },
    "tags": []
   },
   "source": [
    "## 3.5. Transformations summary "
   ]
  },
  {
   "cell_type": "markdown",
   "id": "1ca15f36",
   "metadata": {
    "papermill": {
     "duration": 0.063058,
     "end_time": "2021-12-30T00:24:51.628559",
     "exception": false,
     "start_time": "2021-12-30T00:24:51.565501",
     "status": "completed"
    },
    "tags": []
   },
   "source": [
    "My current approach assumes that datasets used for training and classification will consist **only categorical variables**.\n",
    "\n",
    "For categorical data with **no logical order** (like Title, Embarked) i used one-hot encoding method.\n",
    "\n",
    "Categorical data with **logical order** (like Pclass, Age) remains label-encoded."
   ]
  },
  {
   "cell_type": "code",
   "execution_count": 38,
   "id": "b5318ada",
   "metadata": {
    "execution": {
     "iopub.execute_input": "2021-12-30T00:24:51.759209Z",
     "iopub.status.busy": "2021-12-30T00:24:51.758608Z",
     "iopub.status.idle": "2021-12-30T00:24:51.771412Z",
     "shell.execute_reply": "2021-12-30T00:24:51.771853Z",
     "shell.execute_reply.started": "2021-12-30T00:23:09.419295Z"
    },
    "papermill": {
     "duration": 0.079972,
     "end_time": "2021-12-30T00:24:51.772052",
     "exception": false,
     "start_time": "2021-12-30T00:24:51.692080",
     "status": "completed"
    },
    "tags": []
   },
   "outputs": [
    {
     "data": {
      "text/html": [
       "<div>\n",
       "<style scoped>\n",
       "    .dataframe tbody tr th:only-of-type {\n",
       "        vertical-align: middle;\n",
       "    }\n",
       "\n",
       "    .dataframe tbody tr th {\n",
       "        vertical-align: top;\n",
       "    }\n",
       "\n",
       "    .dataframe thead th {\n",
       "        text-align: right;\n",
       "    }\n",
       "</style>\n",
       "<table border=\"1\" class=\"dataframe\">\n",
       "  <thead>\n",
       "    <tr style=\"text-align: right;\">\n",
       "      <th></th>\n",
       "      <th>Survived</th>\n",
       "      <th>Pclass</th>\n",
       "      <th>Age</th>\n",
       "      <th>SibSp</th>\n",
       "      <th>Parch</th>\n",
       "      <th>Fare</th>\n",
       "      <th>Sex_male</th>\n",
       "      <th>Embarked_Q</th>\n",
       "      <th>Embarked_S</th>\n",
       "      <th>Title_Miss</th>\n",
       "      <th>Title_Mr</th>\n",
       "      <th>Title_Mrs</th>\n",
       "      <th>Title_Rare</th>\n",
       "    </tr>\n",
       "  </thead>\n",
       "  <tbody>\n",
       "    <tr>\n",
       "      <th>0</th>\n",
       "      <td>0</td>\n",
       "      <td>3</td>\n",
       "      <td>2</td>\n",
       "      <td>1</td>\n",
       "      <td>0</td>\n",
       "      <td>0</td>\n",
       "      <td>1</td>\n",
       "      <td>0</td>\n",
       "      <td>1</td>\n",
       "      <td>0</td>\n",
       "      <td>1</td>\n",
       "      <td>0</td>\n",
       "      <td>0</td>\n",
       "    </tr>\n",
       "    <tr>\n",
       "      <th>1</th>\n",
       "      <td>1</td>\n",
       "      <td>1</td>\n",
       "      <td>4</td>\n",
       "      <td>1</td>\n",
       "      <td>0</td>\n",
       "      <td>3</td>\n",
       "      <td>0</td>\n",
       "      <td>0</td>\n",
       "      <td>0</td>\n",
       "      <td>0</td>\n",
       "      <td>0</td>\n",
       "      <td>1</td>\n",
       "      <td>0</td>\n",
       "    </tr>\n",
       "    <tr>\n",
       "      <th>2</th>\n",
       "      <td>1</td>\n",
       "      <td>3</td>\n",
       "      <td>3</td>\n",
       "      <td>0</td>\n",
       "      <td>0</td>\n",
       "      <td>1</td>\n",
       "      <td>0</td>\n",
       "      <td>0</td>\n",
       "      <td>1</td>\n",
       "      <td>1</td>\n",
       "      <td>0</td>\n",
       "      <td>0</td>\n",
       "      <td>0</td>\n",
       "    </tr>\n",
       "    <tr>\n",
       "      <th>3</th>\n",
       "      <td>1</td>\n",
       "      <td>1</td>\n",
       "      <td>4</td>\n",
       "      <td>1</td>\n",
       "      <td>0</td>\n",
       "      <td>3</td>\n",
       "      <td>0</td>\n",
       "      <td>0</td>\n",
       "      <td>1</td>\n",
       "      <td>0</td>\n",
       "      <td>0</td>\n",
       "      <td>1</td>\n",
       "      <td>0</td>\n",
       "    </tr>\n",
       "    <tr>\n",
       "      <th>4</th>\n",
       "      <td>0</td>\n",
       "      <td>3</td>\n",
       "      <td>4</td>\n",
       "      <td>0</td>\n",
       "      <td>0</td>\n",
       "      <td>1</td>\n",
       "      <td>1</td>\n",
       "      <td>0</td>\n",
       "      <td>1</td>\n",
       "      <td>0</td>\n",
       "      <td>1</td>\n",
       "      <td>0</td>\n",
       "      <td>0</td>\n",
       "    </tr>\n",
       "  </tbody>\n",
       "</table>\n",
       "</div>"
      ],
      "text/plain": [
       "   Survived  Pclass  Age  SibSp  Parch Fare  Sex_male  Embarked_Q  Embarked_S  \\\n",
       "0         0       3    2      1      0    0         1           0           1   \n",
       "1         1       1    4      1      0    3         0           0           0   \n",
       "2         1       3    3      0      0    1         0           0           1   \n",
       "3         1       1    4      1      0    3         0           0           1   \n",
       "4         0       3    4      0      0    1         1           0           1   \n",
       "\n",
       "   Title_Miss  Title_Mr  Title_Mrs  Title_Rare  \n",
       "0           0         1          0           0  \n",
       "1           0         0          1           0  \n",
       "2           1         0          0           0  \n",
       "3           0         0          1           0  \n",
       "4           0         1          0           0  "
      ]
     },
     "execution_count": 38,
     "metadata": {},
     "output_type": "execute_result"
    }
   ],
   "source": [
    "df_train.head()"
   ]
  },
  {
   "cell_type": "markdown",
   "id": "002fa809",
   "metadata": {
    "execution": {
     "iopub.execute_input": "2021-11-09T22:31:01.992663Z",
     "iopub.status.busy": "2021-11-09T22:31:01.992281Z",
     "iopub.status.idle": "2021-11-09T22:31:01.9968Z",
     "shell.execute_reply": "2021-11-09T22:31:01.995896Z",
     "shell.execute_reply.started": "2021-11-09T22:31:01.99263Z"
    },
    "papermill": {
     "duration": 0.064139,
     "end_time": "2021-12-30T00:24:51.900085",
     "exception": false,
     "start_time": "2021-12-30T00:24:51.835946",
     "status": "completed"
    },
    "tags": []
   },
   "source": [
    "# 4. Predictions"
   ]
  },
  {
   "cell_type": "markdown",
   "id": "a239cc78",
   "metadata": {
    "papermill": {
     "duration": 0.063237,
     "end_time": "2021-12-30T00:24:52.030162",
     "exception": false,
     "start_time": "2021-12-30T00:24:51.966925",
     "status": "completed"
    },
    "tags": []
   },
   "source": [
    "Now, I'll use classification models to make predictions and evaluate them using prepared train dataset. To evaluate each model performance, I'll use cross-validation method."
   ]
  },
  {
   "cell_type": "code",
   "execution_count": 39,
   "id": "36b65cc8",
   "metadata": {
    "execution": {
     "iopub.execute_input": "2021-12-30T00:24:52.165735Z",
     "iopub.status.busy": "2021-12-30T00:24:52.163778Z",
     "iopub.status.idle": "2021-12-30T00:24:52.520654Z",
     "shell.execute_reply": "2021-12-30T00:24:52.521104Z",
     "shell.execute_reply.started": "2021-12-30T00:23:09.442875Z"
    },
    "papermill": {
     "duration": 0.426581,
     "end_time": "2021-12-30T00:24:52.521286",
     "exception": false,
     "start_time": "2021-12-30T00:24:52.094705",
     "status": "completed"
    },
    "tags": []
   },
   "outputs": [],
   "source": [
    "from sklearn.model_selection import cross_val_score\n",
    "from sklearn.neighbors import KNeighborsClassifier\n",
    "from sklearn.linear_model import LogisticRegression\n",
    "from sklearn.ensemble import RandomForestClassifier\n",
    "from sklearn.ensemble import AdaBoostClassifier\n",
    "from sklearn.linear_model import SGDClassifier"
   ]
  },
  {
   "cell_type": "code",
   "execution_count": 40,
   "id": "81861597",
   "metadata": {
    "execution": {
     "iopub.execute_input": "2021-12-30T00:24:52.651471Z",
     "iopub.status.busy": "2021-12-30T00:24:52.650862Z",
     "iopub.status.idle": "2021-12-30T00:24:52.655722Z",
     "shell.execute_reply": "2021-12-30T00:24:52.656205Z",
     "shell.execute_reply.started": "2021-12-30T00:23:09.451728Z"
    },
    "papermill": {
     "duration": 0.071515,
     "end_time": "2021-12-30T00:24:52.656366",
     "exception": false,
     "start_time": "2021-12-30T00:24:52.584851",
     "status": "completed"
    },
    "tags": []
   },
   "outputs": [],
   "source": [
    "X_train = df_train.drop(columns=['Survived'])\n",
    "y_train = df_train['Survived']"
   ]
  },
  {
   "cell_type": "code",
   "execution_count": 41,
   "id": "66652339",
   "metadata": {
    "execution": {
     "iopub.execute_input": "2021-12-30T00:24:52.786270Z",
     "iopub.status.busy": "2021-12-30T00:24:52.785699Z",
     "iopub.status.idle": "2021-12-30T00:24:52.867185Z",
     "shell.execute_reply": "2021-12-30T00:24:52.866195Z",
     "shell.execute_reply.started": "2021-12-30T00:23:09.473335Z"
    },
    "papermill": {
     "duration": 0.147429,
     "end_time": "2021-12-30T00:24:52.867420",
     "exception": false,
     "start_time": "2021-12-30T00:24:52.719991",
     "status": "completed"
    },
    "tags": []
   },
   "outputs": [
    {
     "name": "stdout",
     "output_type": "stream",
     "text": [
      "Accuracy:  81.594 %\n"
     ]
    }
   ],
   "source": [
    "knn = KNeighborsClassifier()\n",
    "cv = cross_val_score(knn, X_train, y_train, cv=5)\n",
    "\n",
    "print('Accuracy: ', round(cv.mean() * 100,3),'%')"
   ]
  },
  {
   "cell_type": "code",
   "execution_count": 42,
   "id": "de78ddf8",
   "metadata": {
    "execution": {
     "iopub.execute_input": "2021-12-30T00:24:53.004039Z",
     "iopub.status.busy": "2021-12-30T00:24:53.003423Z",
     "iopub.status.idle": "2021-12-30T00:24:53.175863Z",
     "shell.execute_reply": "2021-12-30T00:24:53.176356Z",
     "shell.execute_reply.started": "2021-12-30T00:23:09.578301Z"
    },
    "papermill": {
     "duration": 0.242386,
     "end_time": "2021-12-30T00:24:53.176536",
     "exception": false,
     "start_time": "2021-12-30T00:24:52.934150",
     "status": "completed"
    },
    "tags": []
   },
   "outputs": [
    {
     "name": "stdout",
     "output_type": "stream",
     "text": [
      "Accuracy:  53.547 %\n"
     ]
    }
   ],
   "source": [
    "lr = LogisticRegression(solver='liblinear')\n",
    "cv = cross_val_score(lr, X_train, y_train, cv=5)\n",
    "\n",
    "print('Accuracy: ', round(cv.mean() * 100,3),'%')"
   ]
  },
  {
   "cell_type": "code",
   "execution_count": 43,
   "id": "b0fe665f",
   "metadata": {
    "execution": {
     "iopub.execute_input": "2021-12-30T00:24:53.311533Z",
     "iopub.status.busy": "2021-12-30T00:24:53.310867Z",
     "iopub.status.idle": "2021-12-30T00:24:54.199855Z",
     "shell.execute_reply": "2021-12-30T00:24:54.200390Z",
     "shell.execute_reply.started": "2021-12-30T00:23:09.635880Z"
    },
    "papermill": {
     "duration": 0.959477,
     "end_time": "2021-12-30T00:24:54.200563",
     "exception": false,
     "start_time": "2021-12-30T00:24:53.241086",
     "status": "completed"
    },
    "tags": []
   },
   "outputs": [
    {
     "name": "stdout",
     "output_type": "stream",
     "text": [
      "Accuracy:  80.921 %\n"
     ]
    }
   ],
   "source": [
    "rf = RandomForestClassifier()\n",
    "cv = cross_val_score(rf, X_train, y_train, cv=5)\n",
    "\n",
    "print('Accuracy: ', round(cv.mean() * 100,3),'%')"
   ]
  },
  {
   "cell_type": "code",
   "execution_count": 44,
   "id": "1baf0292",
   "metadata": {
    "execution": {
     "iopub.execute_input": "2021-12-30T00:24:54.333939Z",
     "iopub.status.busy": "2021-12-30T00:24:54.333005Z",
     "iopub.status.idle": "2021-12-30T00:24:54.812063Z",
     "shell.execute_reply": "2021-12-30T00:24:54.812539Z",
     "shell.execute_reply.started": "2021-12-30T00:23:10.903616Z"
    },
    "papermill": {
     "duration": 0.547636,
     "end_time": "2021-12-30T00:24:54.812716",
     "exception": false,
     "start_time": "2021-12-30T00:24:54.265080",
     "status": "completed"
    },
    "tags": []
   },
   "outputs": [
    {
     "name": "stdout",
     "output_type": "stream",
     "text": [
      "Accuracy:  82.269 %\n"
     ]
    }
   ],
   "source": [
    "ab = AdaBoostClassifier()\n",
    "cv = cross_val_score(ab, X_train, y_train, cv=5)\n",
    "\n",
    "print('Accuracy: ', round(cv.mean() * 100,3),'%')"
   ]
  },
  {
   "cell_type": "code",
   "execution_count": 45,
   "id": "6efb69e8",
   "metadata": {
    "execution": {
     "iopub.execute_input": "2021-12-30T00:24:54.948964Z",
     "iopub.status.busy": "2021-12-30T00:24:54.948043Z",
     "iopub.status.idle": "2021-12-30T00:24:54.991409Z",
     "shell.execute_reply": "2021-12-30T00:24:54.991875Z",
     "shell.execute_reply.started": "2021-12-30T00:23:11.569044Z"
    },
    "papermill": {
     "duration": 0.114529,
     "end_time": "2021-12-30T00:24:54.992060",
     "exception": false,
     "start_time": "2021-12-30T00:24:54.877531",
     "status": "completed"
    },
    "tags": []
   },
   "outputs": [
    {
     "name": "stdout",
     "output_type": "stream",
     "text": [
      "Accuracy:  58.82 %\n"
     ]
    }
   ],
   "source": [
    "sgcd = SGDClassifier()\n",
    "cv = cross_val_score(sgcd, X_train, y_train, cv=5)\n",
    "\n",
    "print('Accuracy: ', round(cv.mean() * 100,3),'%')"
   ]
  },
  {
   "cell_type": "markdown",
   "id": "6594f2f6",
   "metadata": {
    "papermill": {
     "duration": 0.066025,
     "end_time": "2021-12-30T00:24:55.123872",
     "exception": false,
     "start_time": "2021-12-30T00:24:55.057847",
     "status": "completed"
    },
    "tags": []
   },
   "source": [
    "## 4.1. Predictions summary "
   ]
  },
  {
   "cell_type": "markdown",
   "id": "57e8ce10",
   "metadata": {
    "papermill": {
     "duration": 0.064831,
     "end_time": "2021-12-30T00:24:55.253533",
     "exception": false,
     "start_time": "2021-12-30T00:24:55.188702",
     "status": "completed"
    },
    "tags": []
   },
   "source": [
    "As we can see, Adaptive Boosting Classifier with default parameters, make the best predictions by far, when it's validated using cross-validation (accuracy above 82%).\n",
    "\n",
    "AdaBoostClassifier is ensamble classifier, which uses DecisionTreeClassifier as base estimator by default.\n",
    "\n",
    "At this moment I do not have enough time to go deeper in that notebook, so I'll just write down what next steps would I do (and hopefully complete them in the future ;))\n",
    "\n",
    "We can see now that performance of two of used models is very poor - Logistic Regression and Stochastic gradient descent Classifier. There is a need to inspect that. As I saw in other people Titanic notebooks, these models usually performs much better than they're here. I would start by checking predictions using other metrics: Precision, Recall and F1 Score.\n",
    "\n",
    "I should definitely try to tune hyperparameters, which would probably lead to even better results.\n",
    "\n",
    "I also should think about what other models I could use to make predictions and use them. "
   ]
  },
  {
   "cell_type": "markdown",
   "id": "a3261556",
   "metadata": {
    "papermill": {
     "duration": 0.065163,
     "end_time": "2021-12-30T00:24:55.384719",
     "exception": false,
     "start_time": "2021-12-30T00:24:55.319556",
     "status": "completed"
    },
    "tags": []
   },
   "source": [
    "## 4.2. Submitting results"
   ]
  },
  {
   "cell_type": "code",
   "execution_count": 46,
   "id": "df5c8496",
   "metadata": {
    "execution": {
     "iopub.execute_input": "2021-12-30T00:24:55.517862Z",
     "iopub.status.busy": "2021-12-30T00:24:55.517283Z",
     "iopub.status.idle": "2021-12-30T00:24:55.625521Z",
     "shell.execute_reply": "2021-12-30T00:24:55.624990Z",
     "shell.execute_reply.started": "2021-12-30T00:23:11.635140Z"
    },
    "papermill": {
     "duration": 0.175922,
     "end_time": "2021-12-30T00:24:55.625671",
     "exception": false,
     "start_time": "2021-12-30T00:24:55.449749",
     "status": "completed"
    },
    "tags": []
   },
   "outputs": [],
   "source": [
    "ab.fit(X_train, y_train)\n",
    "X_test = df_test.drop(columns=['PassengerId'])\n",
    "predictions = ab.predict(X_test)\n",
    "\n",
    "output = pd.DataFrame({'PassengerId': df_test.PassengerId, 'Survived': predictions})\n",
    "output.to_csv('submission.csv', index=False)"
   ]
  }
 ],
 "metadata": {
  "kernelspec": {
   "display_name": "Python 3",
   "language": "python",
   "name": "python3"
  },
  "language_info": {
   "codemirror_mode": {
    "name": "ipython",
    "version": 3
   },
   "file_extension": ".py",
   "mimetype": "text/x-python",
   "name": "python",
   "nbconvert_exporter": "python",
   "pygments_lexer": "ipython3",
   "version": "3.7.10"
  },
  "papermill": {
   "default_parameters": {},
   "duration": 27.933579,
   "end_time": "2021-12-30T00:24:57.310604",
   "environment_variables": {},
   "exception": null,
   "input_path": "__notebook__.ipynb",
   "output_path": "__notebook__.ipynb",
   "parameters": {},
   "start_time": "2021-12-30T00:24:29.377025",
   "version": "2.3.3"
  }
 },
 "nbformat": 4,
 "nbformat_minor": 5
}
